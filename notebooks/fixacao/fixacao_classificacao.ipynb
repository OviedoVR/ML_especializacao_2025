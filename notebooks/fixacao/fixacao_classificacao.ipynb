{
  "nbformat": 4,
  "nbformat_minor": 0,
  "metadata": {
    "colab": {
      "provenance": []
    },
    "kernelspec": {
      "name": "python3",
      "display_name": "Python 3"
    },
    "language_info": {
      "name": "python"
    }
  },
  "cells": [
    {
      "cell_type": "markdown",
      "source": [
        "## **Fixação Classificação**"
      ],
      "metadata": {
        "id": "_9zpuG-vDw7M"
      }
    },
    {
      "cell_type": "code",
      "execution_count": 128,
      "metadata": {
        "id": "zn3UjuRaDguo"
      },
      "outputs": [],
      "source": [
        "!wget -q 'https://raw.githubusercontent.com/OviedoVR/ML_especializacao_2025/refs/heads/main/dados/fixacao/credit_risk.csv' -O 'credit.csv'"
      ]
    },
    {
      "cell_type": "code",
      "source": [
        "# Bibliotecas\n",
        "# Manip. dados:\n",
        "import pandas as pd\n",
        "import numpy as np\n",
        "\n",
        "# Gráficos:\n",
        "import matplotlib.pyplot as plt\n",
        "import seaborn as sns\n",
        "\n",
        "# Modelagem\n",
        "from sklearn.model_selection import train_test_split\n",
        "from sklearn.preprocessing import StandardScaler\n",
        "from sklearn.neighbors import KNeighborsClassifier\n",
        "from sklearn.linear_model import LogisticRegression\n",
        "from sklearn.metrics import accuracy_score, confusion_matrix, classification_report\n",
        "from sklearn.metrics import roc_curve, roc_auc_score"
      ],
      "metadata": {
        "id": "cN28CRg1D8uT"
      },
      "execution_count": 153,
      "outputs": []
    },
    {
      "cell_type": "code",
      "source": [
        "dados = pd.read_csv('credit.csv')\n",
        "dados.head()"
      ],
      "metadata": {
        "colab": {
          "base_uri": "https://localhost:8080/",
          "height": 206
        },
        "id": "u6YIUKdVET1M",
        "outputId": "b9ca952d-3a10-47ef-c617-5844c40f7b7c"
      },
      "execution_count": 130,
      "outputs": [
        {
          "output_type": "execute_result",
          "data": {
            "text/plain": [
              "   rev_util   age  late_30_59  debt_ratio  monthly_inc  open_credit  late_90  \\\n",
              "0  0.006999  38.0         0.0    0.302150       5440.0          4.0      0.0   \n",
              "1  0.704592  63.0         0.0    0.471441       8000.0          9.0      0.0   \n",
              "2  0.063113  57.0         0.0    0.068586       5000.0         17.0      0.0   \n",
              "3  0.368397  68.0         0.0    0.296273       6250.0         16.0      0.0   \n",
              "4  1.000000  34.0         1.0    0.000000       3500.0          0.0      0.0   \n",
              "\n",
              "   real_estate  late_60_89  dependents  dlq_2yrs  \n",
              "0          1.0         0.0         3.0         0  \n",
              "1          1.0         0.0         0.0         0  \n",
              "2          0.0         0.0         0.0         0  \n",
              "3          2.0         0.0         0.0         0  \n",
              "4          0.0         0.0         1.0         0  "
            ],
            "text/html": [
              "\n",
              "  <div id=\"df-f17dba0c-8ba8-48ef-a615-8559a3767687\" class=\"colab-df-container\">\n",
              "    <div>\n",
              "<style scoped>\n",
              "    .dataframe tbody tr th:only-of-type {\n",
              "        vertical-align: middle;\n",
              "    }\n",
              "\n",
              "    .dataframe tbody tr th {\n",
              "        vertical-align: top;\n",
              "    }\n",
              "\n",
              "    .dataframe thead th {\n",
              "        text-align: right;\n",
              "    }\n",
              "</style>\n",
              "<table border=\"1\" class=\"dataframe\">\n",
              "  <thead>\n",
              "    <tr style=\"text-align: right;\">\n",
              "      <th></th>\n",
              "      <th>rev_util</th>\n",
              "      <th>age</th>\n",
              "      <th>late_30_59</th>\n",
              "      <th>debt_ratio</th>\n",
              "      <th>monthly_inc</th>\n",
              "      <th>open_credit</th>\n",
              "      <th>late_90</th>\n",
              "      <th>real_estate</th>\n",
              "      <th>late_60_89</th>\n",
              "      <th>dependents</th>\n",
              "      <th>dlq_2yrs</th>\n",
              "    </tr>\n",
              "  </thead>\n",
              "  <tbody>\n",
              "    <tr>\n",
              "      <th>0</th>\n",
              "      <td>0.006999</td>\n",
              "      <td>38.0</td>\n",
              "      <td>0.0</td>\n",
              "      <td>0.302150</td>\n",
              "      <td>5440.0</td>\n",
              "      <td>4.0</td>\n",
              "      <td>0.0</td>\n",
              "      <td>1.0</td>\n",
              "      <td>0.0</td>\n",
              "      <td>3.0</td>\n",
              "      <td>0</td>\n",
              "    </tr>\n",
              "    <tr>\n",
              "      <th>1</th>\n",
              "      <td>0.704592</td>\n",
              "      <td>63.0</td>\n",
              "      <td>0.0</td>\n",
              "      <td>0.471441</td>\n",
              "      <td>8000.0</td>\n",
              "      <td>9.0</td>\n",
              "      <td>0.0</td>\n",
              "      <td>1.0</td>\n",
              "      <td>0.0</td>\n",
              "      <td>0.0</td>\n",
              "      <td>0</td>\n",
              "    </tr>\n",
              "    <tr>\n",
              "      <th>2</th>\n",
              "      <td>0.063113</td>\n",
              "      <td>57.0</td>\n",
              "      <td>0.0</td>\n",
              "      <td>0.068586</td>\n",
              "      <td>5000.0</td>\n",
              "      <td>17.0</td>\n",
              "      <td>0.0</td>\n",
              "      <td>0.0</td>\n",
              "      <td>0.0</td>\n",
              "      <td>0.0</td>\n",
              "      <td>0</td>\n",
              "    </tr>\n",
              "    <tr>\n",
              "      <th>3</th>\n",
              "      <td>0.368397</td>\n",
              "      <td>68.0</td>\n",
              "      <td>0.0</td>\n",
              "      <td>0.296273</td>\n",
              "      <td>6250.0</td>\n",
              "      <td>16.0</td>\n",
              "      <td>0.0</td>\n",
              "      <td>2.0</td>\n",
              "      <td>0.0</td>\n",
              "      <td>0.0</td>\n",
              "      <td>0</td>\n",
              "    </tr>\n",
              "    <tr>\n",
              "      <th>4</th>\n",
              "      <td>1.000000</td>\n",
              "      <td>34.0</td>\n",
              "      <td>1.0</td>\n",
              "      <td>0.000000</td>\n",
              "      <td>3500.0</td>\n",
              "      <td>0.0</td>\n",
              "      <td>0.0</td>\n",
              "      <td>0.0</td>\n",
              "      <td>0.0</td>\n",
              "      <td>1.0</td>\n",
              "      <td>0</td>\n",
              "    </tr>\n",
              "  </tbody>\n",
              "</table>\n",
              "</div>\n",
              "    <div class=\"colab-df-buttons\">\n",
              "\n",
              "  <div class=\"colab-df-container\">\n",
              "    <button class=\"colab-df-convert\" onclick=\"convertToInteractive('df-f17dba0c-8ba8-48ef-a615-8559a3767687')\"\n",
              "            title=\"Convert this dataframe to an interactive table.\"\n",
              "            style=\"display:none;\">\n",
              "\n",
              "  <svg xmlns=\"http://www.w3.org/2000/svg\" height=\"24px\" viewBox=\"0 -960 960 960\">\n",
              "    <path d=\"M120-120v-720h720v720H120Zm60-500h600v-160H180v160Zm220 220h160v-160H400v160Zm0 220h160v-160H400v160ZM180-400h160v-160H180v160Zm440 0h160v-160H620v160ZM180-180h160v-160H180v160Zm440 0h160v-160H620v160Z\"/>\n",
              "  </svg>\n",
              "    </button>\n",
              "\n",
              "  <style>\n",
              "    .colab-df-container {\n",
              "      display:flex;\n",
              "      gap: 12px;\n",
              "    }\n",
              "\n",
              "    .colab-df-convert {\n",
              "      background-color: #E8F0FE;\n",
              "      border: none;\n",
              "      border-radius: 50%;\n",
              "      cursor: pointer;\n",
              "      display: none;\n",
              "      fill: #1967D2;\n",
              "      height: 32px;\n",
              "      padding: 0 0 0 0;\n",
              "      width: 32px;\n",
              "    }\n",
              "\n",
              "    .colab-df-convert:hover {\n",
              "      background-color: #E2EBFA;\n",
              "      box-shadow: 0px 1px 2px rgba(60, 64, 67, 0.3), 0px 1px 3px 1px rgba(60, 64, 67, 0.15);\n",
              "      fill: #174EA6;\n",
              "    }\n",
              "\n",
              "    .colab-df-buttons div {\n",
              "      margin-bottom: 4px;\n",
              "    }\n",
              "\n",
              "    [theme=dark] .colab-df-convert {\n",
              "      background-color: #3B4455;\n",
              "      fill: #D2E3FC;\n",
              "    }\n",
              "\n",
              "    [theme=dark] .colab-df-convert:hover {\n",
              "      background-color: #434B5C;\n",
              "      box-shadow: 0px 1px 3px 1px rgba(0, 0, 0, 0.15);\n",
              "      filter: drop-shadow(0px 1px 2px rgba(0, 0, 0, 0.3));\n",
              "      fill: #FFFFFF;\n",
              "    }\n",
              "  </style>\n",
              "\n",
              "    <script>\n",
              "      const buttonEl =\n",
              "        document.querySelector('#df-f17dba0c-8ba8-48ef-a615-8559a3767687 button.colab-df-convert');\n",
              "      buttonEl.style.display =\n",
              "        google.colab.kernel.accessAllowed ? 'block' : 'none';\n",
              "\n",
              "      async function convertToInteractive(key) {\n",
              "        const element = document.querySelector('#df-f17dba0c-8ba8-48ef-a615-8559a3767687');\n",
              "        const dataTable =\n",
              "          await google.colab.kernel.invokeFunction('convertToInteractive',\n",
              "                                                    [key], {});\n",
              "        if (!dataTable) return;\n",
              "\n",
              "        const docLinkHtml = 'Like what you see? Visit the ' +\n",
              "          '<a target=\"_blank\" href=https://colab.research.google.com/notebooks/data_table.ipynb>data table notebook</a>'\n",
              "          + ' to learn more about interactive tables.';\n",
              "        element.innerHTML = '';\n",
              "        dataTable['output_type'] = 'display_data';\n",
              "        await google.colab.output.renderOutput(dataTable, element);\n",
              "        const docLink = document.createElement('div');\n",
              "        docLink.innerHTML = docLinkHtml;\n",
              "        element.appendChild(docLink);\n",
              "      }\n",
              "    </script>\n",
              "  </div>\n",
              "\n",
              "\n",
              "    <div id=\"df-a640b00c-e759-42eb-8980-d44d5b4328e1\">\n",
              "      <button class=\"colab-df-quickchart\" onclick=\"quickchart('df-a640b00c-e759-42eb-8980-d44d5b4328e1')\"\n",
              "                title=\"Suggest charts\"\n",
              "                style=\"display:none;\">\n",
              "\n",
              "<svg xmlns=\"http://www.w3.org/2000/svg\" height=\"24px\"viewBox=\"0 0 24 24\"\n",
              "     width=\"24px\">\n",
              "    <g>\n",
              "        <path d=\"M19 3H5c-1.1 0-2 .9-2 2v14c0 1.1.9 2 2 2h14c1.1 0 2-.9 2-2V5c0-1.1-.9-2-2-2zM9 17H7v-7h2v7zm4 0h-2V7h2v10zm4 0h-2v-4h2v4z\"/>\n",
              "    </g>\n",
              "</svg>\n",
              "      </button>\n",
              "\n",
              "<style>\n",
              "  .colab-df-quickchart {\n",
              "      --bg-color: #E8F0FE;\n",
              "      --fill-color: #1967D2;\n",
              "      --hover-bg-color: #E2EBFA;\n",
              "      --hover-fill-color: #174EA6;\n",
              "      --disabled-fill-color: #AAA;\n",
              "      --disabled-bg-color: #DDD;\n",
              "  }\n",
              "\n",
              "  [theme=dark] .colab-df-quickchart {\n",
              "      --bg-color: #3B4455;\n",
              "      --fill-color: #D2E3FC;\n",
              "      --hover-bg-color: #434B5C;\n",
              "      --hover-fill-color: #FFFFFF;\n",
              "      --disabled-bg-color: #3B4455;\n",
              "      --disabled-fill-color: #666;\n",
              "  }\n",
              "\n",
              "  .colab-df-quickchart {\n",
              "    background-color: var(--bg-color);\n",
              "    border: none;\n",
              "    border-radius: 50%;\n",
              "    cursor: pointer;\n",
              "    display: none;\n",
              "    fill: var(--fill-color);\n",
              "    height: 32px;\n",
              "    padding: 0;\n",
              "    width: 32px;\n",
              "  }\n",
              "\n",
              "  .colab-df-quickchart:hover {\n",
              "    background-color: var(--hover-bg-color);\n",
              "    box-shadow: 0 1px 2px rgba(60, 64, 67, 0.3), 0 1px 3px 1px rgba(60, 64, 67, 0.15);\n",
              "    fill: var(--button-hover-fill-color);\n",
              "  }\n",
              "\n",
              "  .colab-df-quickchart-complete:disabled,\n",
              "  .colab-df-quickchart-complete:disabled:hover {\n",
              "    background-color: var(--disabled-bg-color);\n",
              "    fill: var(--disabled-fill-color);\n",
              "    box-shadow: none;\n",
              "  }\n",
              "\n",
              "  .colab-df-spinner {\n",
              "    border: 2px solid var(--fill-color);\n",
              "    border-color: transparent;\n",
              "    border-bottom-color: var(--fill-color);\n",
              "    animation:\n",
              "      spin 1s steps(1) infinite;\n",
              "  }\n",
              "\n",
              "  @keyframes spin {\n",
              "    0% {\n",
              "      border-color: transparent;\n",
              "      border-bottom-color: var(--fill-color);\n",
              "      border-left-color: var(--fill-color);\n",
              "    }\n",
              "    20% {\n",
              "      border-color: transparent;\n",
              "      border-left-color: var(--fill-color);\n",
              "      border-top-color: var(--fill-color);\n",
              "    }\n",
              "    30% {\n",
              "      border-color: transparent;\n",
              "      border-left-color: var(--fill-color);\n",
              "      border-top-color: var(--fill-color);\n",
              "      border-right-color: var(--fill-color);\n",
              "    }\n",
              "    40% {\n",
              "      border-color: transparent;\n",
              "      border-right-color: var(--fill-color);\n",
              "      border-top-color: var(--fill-color);\n",
              "    }\n",
              "    60% {\n",
              "      border-color: transparent;\n",
              "      border-right-color: var(--fill-color);\n",
              "    }\n",
              "    80% {\n",
              "      border-color: transparent;\n",
              "      border-right-color: var(--fill-color);\n",
              "      border-bottom-color: var(--fill-color);\n",
              "    }\n",
              "    90% {\n",
              "      border-color: transparent;\n",
              "      border-bottom-color: var(--fill-color);\n",
              "    }\n",
              "  }\n",
              "</style>\n",
              "\n",
              "      <script>\n",
              "        async function quickchart(key) {\n",
              "          const quickchartButtonEl =\n",
              "            document.querySelector('#' + key + ' button');\n",
              "          quickchartButtonEl.disabled = true;  // To prevent multiple clicks.\n",
              "          quickchartButtonEl.classList.add('colab-df-spinner');\n",
              "          try {\n",
              "            const charts = await google.colab.kernel.invokeFunction(\n",
              "                'suggestCharts', [key], {});\n",
              "          } catch (error) {\n",
              "            console.error('Error during call to suggestCharts:', error);\n",
              "          }\n",
              "          quickchartButtonEl.classList.remove('colab-df-spinner');\n",
              "          quickchartButtonEl.classList.add('colab-df-quickchart-complete');\n",
              "        }\n",
              "        (() => {\n",
              "          let quickchartButtonEl =\n",
              "            document.querySelector('#df-a640b00c-e759-42eb-8980-d44d5b4328e1 button');\n",
              "          quickchartButtonEl.style.display =\n",
              "            google.colab.kernel.accessAllowed ? 'block' : 'none';\n",
              "        })();\n",
              "      </script>\n",
              "    </div>\n",
              "\n",
              "    </div>\n",
              "  </div>\n"
            ],
            "application/vnd.google.colaboratory.intrinsic+json": {
              "type": "dataframe",
              "variable_name": "dados",
              "summary": "{\n  \"name\": \"dados\",\n  \"rows\": 16714,\n  \"fields\": [\n    {\n      \"column\": \"rev_util\",\n      \"properties\": {\n        \"dtype\": \"number\",\n        \"std\": 204.06234518767243,\n        \"min\": 0.0,\n        \"max\": 22000.0,\n        \"num_unique_values\": 13887,\n        \"samples\": [\n          0.029899402,\n          0.696579559,\n          0.323825689\n        ],\n        \"semantic_type\": \"\",\n        \"description\": \"\"\n      }\n    },\n    {\n      \"column\": \"age\",\n      \"properties\": {\n        \"dtype\": \"number\",\n        \"std\": 13.906078460885976,\n        \"min\": 21.0,\n        \"max\": 101.0,\n        \"num_unique_values\": 78,\n        \"samples\": [\n          54.0,\n          38.0,\n          44.0\n        ],\n        \"semantic_type\": \"\",\n        \"description\": \"\"\n      }\n    },\n    {\n      \"column\": \"late_30_59\",\n      \"properties\": {\n        \"dtype\": \"number\",\n        \"std\": 7.1728902617080195,\n        \"min\": 0.0,\n        \"max\": 98.0,\n        \"num_unique_values\": 16,\n        \"samples\": [\n          0.0,\n          1.0,\n          4.0\n        ],\n        \"semantic_type\": \"\",\n        \"description\": \"\"\n      }\n    },\n    {\n      \"column\": \"debt_ratio\",\n      \"properties\": {\n        \"dtype\": \"number\",\n        \"std\": 719.6948586644227,\n        \"min\": 0.0,\n        \"max\": 61106.5,\n        \"num_unique_values\": 16128,\n        \"samples\": [\n          0.29333838,\n          0.306058222,\n          0.261055635\n        ],\n        \"semantic_type\": \"\",\n        \"description\": \"\"\n      }\n    },\n    {\n      \"column\": \"monthly_inc\",\n      \"properties\": {\n        \"dtype\": \"number\",\n        \"std\": 5931.841778846162,\n        \"min\": 0.0,\n        \"max\": 250000.0,\n        \"num_unique_values\": 5150,\n        \"samples\": [\n          9083.0,\n          2188.0,\n          5365.0\n        ],\n        \"semantic_type\": \"\",\n        \"description\": \"\"\n      }\n    },\n    {\n      \"column\": \"open_credit\",\n      \"properties\": {\n        \"dtype\": \"number\",\n        \"std\": 5.370964607566062,\n        \"min\": 0.0,\n        \"max\": 57.0,\n        \"num_unique_values\": 48,\n        \"samples\": [\n          20.0,\n          41.0,\n          28.0\n        ],\n        \"semantic_type\": \"\",\n        \"description\": \"\"\n      }\n    },\n    {\n      \"column\": \"late_90\",\n      \"properties\": {\n        \"dtype\": \"number\",\n        \"std\": 7.167575884359679,\n        \"min\": 0.0,\n        \"max\": 98.0,\n        \"num_unique_values\": 18,\n        \"samples\": [\n          0.0,\n          1.0,\n          10.0\n        ],\n        \"semantic_type\": \"\",\n        \"description\": \"\"\n      }\n    },\n    {\n      \"column\": \"real_estate\",\n      \"properties\": {\n        \"dtype\": \"number\",\n        \"std\": 1.2725645624376745,\n        \"min\": 0.0,\n        \"max\": 29.0,\n        \"num_unique_values\": 20,\n        \"samples\": [\n          1.0,\n          20.0,\n          11.0\n        ],\n        \"semantic_type\": \"\",\n        \"description\": \"\"\n      }\n    },\n    {\n      \"column\": \"late_60_89\",\n      \"properties\": {\n        \"dtype\": \"number\",\n        \"std\": 7.138736504967538,\n        \"min\": 0.0,\n        \"max\": 98.0,\n        \"num_unique_values\": 12,\n        \"samples\": [\n          8.0,\n          11.0,\n          0.0\n        ],\n        \"semantic_type\": \"\",\n        \"description\": \"\"\n      }\n    },\n    {\n      \"column\": \"dependents\",\n      \"properties\": {\n        \"dtype\": \"number\",\n        \"std\": 1.1987910742015635,\n        \"min\": 0.0,\n        \"max\": 8.0,\n        \"num_unique_values\": 9,\n        \"samples\": [\n          6.0,\n          0.0,\n          5.0\n        ],\n        \"semantic_type\": \"\",\n        \"description\": \"\"\n      }\n    },\n    {\n      \"column\": \"dlq_2yrs\",\n      \"properties\": {\n        \"dtype\": \"number\",\n        \"std\": 0,\n        \"min\": 0,\n        \"max\": 1,\n        \"num_unique_values\": 2,\n        \"samples\": [\n          1,\n          0\n        ],\n        \"semantic_type\": \"\",\n        \"description\": \"\"\n      }\n    }\n  ]\n}"
            }
          },
          "metadata": {},
          "execution_count": 130
        }
      ]
    },
    {
      "cell_type": "code",
      "source": [
        "dados.shape"
      ],
      "metadata": {
        "colab": {
          "base_uri": "https://localhost:8080/"
        },
        "id": "11secPVNErLK",
        "outputId": "c5d7ac7c-1e24-4d13-fa88-a03e1da700b6"
      },
      "execution_count": 131,
      "outputs": [
        {
          "output_type": "execute_result",
          "data": {
            "text/plain": [
              "(16714, 11)"
            ]
          },
          "metadata": {},
          "execution_count": 131
        }
      ]
    },
    {
      "cell_type": "code",
      "source": [
        "dados.info()"
      ],
      "metadata": {
        "colab": {
          "base_uri": "https://localhost:8080/"
        },
        "id": "0J1YlbqKEuPK",
        "outputId": "65f402e7-d2fd-4fa8-cc79-bd62fd618fe9"
      },
      "execution_count": 132,
      "outputs": [
        {
          "output_type": "stream",
          "name": "stdout",
          "text": [
            "<class 'pandas.core.frame.DataFrame'>\n",
            "RangeIndex: 16714 entries, 0 to 16713\n",
            "Data columns (total 11 columns):\n",
            " #   Column       Non-Null Count  Dtype  \n",
            "---  ------       --------------  -----  \n",
            " 0   rev_util     16714 non-null  float64\n",
            " 1   age          16714 non-null  float64\n",
            " 2   late_30_59   16714 non-null  float64\n",
            " 3   debt_ratio   16714 non-null  float64\n",
            " 4   monthly_inc  16714 non-null  float64\n",
            " 5   open_credit  16714 non-null  float64\n",
            " 6   late_90      16714 non-null  float64\n",
            " 7   real_estate  16714 non-null  float64\n",
            " 8   late_60_89   16714 non-null  float64\n",
            " 9   dependents   16714 non-null  float64\n",
            " 10  dlq_2yrs     16714 non-null  int64  \n",
            "dtypes: float64(10), int64(1)\n",
            "memory usage: 1.4 MB\n"
          ]
        }
      ]
    },
    {
      "cell_type": "code",
      "source": [
        "dados['age'] = dados['age'].astype('int64')"
      ],
      "metadata": {
        "id": "WxqIwyqqE0ci"
      },
      "execution_count": 133,
      "outputs": []
    },
    {
      "cell_type": "code",
      "source": [
        "dados.isna().sum()"
      ],
      "metadata": {
        "colab": {
          "base_uri": "https://localhost:8080/",
          "height": 429
        },
        "id": "BWQ4ISKuE8NS",
        "outputId": "8eae7be1-688e-40df-a343-0c90e79172bc"
      },
      "execution_count": 134,
      "outputs": [
        {
          "output_type": "execute_result",
          "data": {
            "text/plain": [
              "rev_util       0\n",
              "age            0\n",
              "late_30_59     0\n",
              "debt_ratio     0\n",
              "monthly_inc    0\n",
              "open_credit    0\n",
              "late_90        0\n",
              "real_estate    0\n",
              "late_60_89     0\n",
              "dependents     0\n",
              "dlq_2yrs       0\n",
              "dtype: int64"
            ],
            "text/html": [
              "<div>\n",
              "<style scoped>\n",
              "    .dataframe tbody tr th:only-of-type {\n",
              "        vertical-align: middle;\n",
              "    }\n",
              "\n",
              "    .dataframe tbody tr th {\n",
              "        vertical-align: top;\n",
              "    }\n",
              "\n",
              "    .dataframe thead th {\n",
              "        text-align: right;\n",
              "    }\n",
              "</style>\n",
              "<table border=\"1\" class=\"dataframe\">\n",
              "  <thead>\n",
              "    <tr style=\"text-align: right;\">\n",
              "      <th></th>\n",
              "      <th>0</th>\n",
              "    </tr>\n",
              "  </thead>\n",
              "  <tbody>\n",
              "    <tr>\n",
              "      <th>rev_util</th>\n",
              "      <td>0</td>\n",
              "    </tr>\n",
              "    <tr>\n",
              "      <th>age</th>\n",
              "      <td>0</td>\n",
              "    </tr>\n",
              "    <tr>\n",
              "      <th>late_30_59</th>\n",
              "      <td>0</td>\n",
              "    </tr>\n",
              "    <tr>\n",
              "      <th>debt_ratio</th>\n",
              "      <td>0</td>\n",
              "    </tr>\n",
              "    <tr>\n",
              "      <th>monthly_inc</th>\n",
              "      <td>0</td>\n",
              "    </tr>\n",
              "    <tr>\n",
              "      <th>open_credit</th>\n",
              "      <td>0</td>\n",
              "    </tr>\n",
              "    <tr>\n",
              "      <th>late_90</th>\n",
              "      <td>0</td>\n",
              "    </tr>\n",
              "    <tr>\n",
              "      <th>real_estate</th>\n",
              "      <td>0</td>\n",
              "    </tr>\n",
              "    <tr>\n",
              "      <th>late_60_89</th>\n",
              "      <td>0</td>\n",
              "    </tr>\n",
              "    <tr>\n",
              "      <th>dependents</th>\n",
              "      <td>0</td>\n",
              "    </tr>\n",
              "    <tr>\n",
              "      <th>dlq_2yrs</th>\n",
              "      <td>0</td>\n",
              "    </tr>\n",
              "  </tbody>\n",
              "</table>\n",
              "</div><br><label><b>dtype:</b> int64</label>"
            ]
          },
          "metadata": {},
          "execution_count": 134
        }
      ]
    },
    {
      "cell_type": "code",
      "source": [
        "features.columns"
      ],
      "metadata": {
        "colab": {
          "base_uri": "https://localhost:8080/"
        },
        "id": "RswAdrQOMD_y",
        "outputId": "cc5cb978-3566-45db-b335-92549b74af08"
      },
      "execution_count": 135,
      "outputs": [
        {
          "output_type": "execute_result",
          "data": {
            "text/plain": [
              "Index(['age', 'late_30_59', 'monthly_inc', 'late_90', 'late_60_89',\n",
              "       'dependents'],\n",
              "      dtype='object')"
            ]
          },
          "metadata": {},
          "execution_count": 135
        }
      ]
    },
    {
      "cell_type": "code",
      "source": [
        "dados.describe()"
      ],
      "metadata": {
        "colab": {
          "base_uri": "https://localhost:8080/",
          "height": 300
        },
        "id": "_4acdxZ3E_QC",
        "outputId": "58bc67c5-ed86-4a58-8e6f-3e32177de238"
      },
      "execution_count": 136,
      "outputs": [
        {
          "output_type": "execute_result",
          "data": {
            "text/plain": [
              "           rev_util           age    late_30_59    debt_ratio    monthly_inc  \\\n",
              "count  16714.000000  16714.000000  16714.000000  16714.000000   16714.000000   \n",
              "mean       4.799862     48.798672      1.110267     30.980298    6118.120258   \n",
              "std      204.062345     13.906078      7.172890    719.694859    5931.841779   \n",
              "min        0.000000     21.000000      0.000000      0.000000       0.000000   \n",
              "25%        0.082397     38.000000      0.000000      0.155971    3128.500000   \n",
              "50%        0.443080     48.000000      0.000000      0.322299    5000.000000   \n",
              "75%        0.926637     58.000000      1.000000      0.533426    7573.000000   \n",
              "max    22000.000000    101.000000     98.000000  61106.500000  250000.000000   \n",
              "\n",
              "        open_credit       late_90   real_estate    late_60_89    dependents  \\\n",
              "count  16714.000000  16714.000000  16714.000000  16714.000000  16714.000000   \n",
              "mean       8.503709      0.863827      1.047445      0.734354      0.944358   \n",
              "std        5.370965      7.167576      1.272565      7.138737      1.198791   \n",
              "min        0.000000      0.000000      0.000000      0.000000      0.000000   \n",
              "25%        5.000000      0.000000      0.000000      0.000000      0.000000   \n",
              "50%        8.000000      0.000000      1.000000      0.000000      0.000000   \n",
              "75%       11.000000      0.000000      2.000000      0.000000      2.000000   \n",
              "max       57.000000     98.000000     29.000000     98.000000      8.000000   \n",
              "\n",
              "           dlq_2yrs  \n",
              "count  16714.000000  \n",
              "mean       0.500000  \n",
              "std        0.500015  \n",
              "min        0.000000  \n",
              "25%        0.000000  \n",
              "50%        0.500000  \n",
              "75%        1.000000  \n",
              "max        1.000000  "
            ],
            "text/html": [
              "\n",
              "  <div id=\"df-108f3fc4-c510-44e0-8515-d3843b2858ca\" class=\"colab-df-container\">\n",
              "    <div>\n",
              "<style scoped>\n",
              "    .dataframe tbody tr th:only-of-type {\n",
              "        vertical-align: middle;\n",
              "    }\n",
              "\n",
              "    .dataframe tbody tr th {\n",
              "        vertical-align: top;\n",
              "    }\n",
              "\n",
              "    .dataframe thead th {\n",
              "        text-align: right;\n",
              "    }\n",
              "</style>\n",
              "<table border=\"1\" class=\"dataframe\">\n",
              "  <thead>\n",
              "    <tr style=\"text-align: right;\">\n",
              "      <th></th>\n",
              "      <th>rev_util</th>\n",
              "      <th>age</th>\n",
              "      <th>late_30_59</th>\n",
              "      <th>debt_ratio</th>\n",
              "      <th>monthly_inc</th>\n",
              "      <th>open_credit</th>\n",
              "      <th>late_90</th>\n",
              "      <th>real_estate</th>\n",
              "      <th>late_60_89</th>\n",
              "      <th>dependents</th>\n",
              "      <th>dlq_2yrs</th>\n",
              "    </tr>\n",
              "  </thead>\n",
              "  <tbody>\n",
              "    <tr>\n",
              "      <th>count</th>\n",
              "      <td>16714.000000</td>\n",
              "      <td>16714.000000</td>\n",
              "      <td>16714.000000</td>\n",
              "      <td>16714.000000</td>\n",
              "      <td>16714.000000</td>\n",
              "      <td>16714.000000</td>\n",
              "      <td>16714.000000</td>\n",
              "      <td>16714.000000</td>\n",
              "      <td>16714.000000</td>\n",
              "      <td>16714.000000</td>\n",
              "      <td>16714.000000</td>\n",
              "    </tr>\n",
              "    <tr>\n",
              "      <th>mean</th>\n",
              "      <td>4.799862</td>\n",
              "      <td>48.798672</td>\n",
              "      <td>1.110267</td>\n",
              "      <td>30.980298</td>\n",
              "      <td>6118.120258</td>\n",
              "      <td>8.503709</td>\n",
              "      <td>0.863827</td>\n",
              "      <td>1.047445</td>\n",
              "      <td>0.734354</td>\n",
              "      <td>0.944358</td>\n",
              "      <td>0.500000</td>\n",
              "    </tr>\n",
              "    <tr>\n",
              "      <th>std</th>\n",
              "      <td>204.062345</td>\n",
              "      <td>13.906078</td>\n",
              "      <td>7.172890</td>\n",
              "      <td>719.694859</td>\n",
              "      <td>5931.841779</td>\n",
              "      <td>5.370965</td>\n",
              "      <td>7.167576</td>\n",
              "      <td>1.272565</td>\n",
              "      <td>7.138737</td>\n",
              "      <td>1.198791</td>\n",
              "      <td>0.500015</td>\n",
              "    </tr>\n",
              "    <tr>\n",
              "      <th>min</th>\n",
              "      <td>0.000000</td>\n",
              "      <td>21.000000</td>\n",
              "      <td>0.000000</td>\n",
              "      <td>0.000000</td>\n",
              "      <td>0.000000</td>\n",
              "      <td>0.000000</td>\n",
              "      <td>0.000000</td>\n",
              "      <td>0.000000</td>\n",
              "      <td>0.000000</td>\n",
              "      <td>0.000000</td>\n",
              "      <td>0.000000</td>\n",
              "    </tr>\n",
              "    <tr>\n",
              "      <th>25%</th>\n",
              "      <td>0.082397</td>\n",
              "      <td>38.000000</td>\n",
              "      <td>0.000000</td>\n",
              "      <td>0.155971</td>\n",
              "      <td>3128.500000</td>\n",
              "      <td>5.000000</td>\n",
              "      <td>0.000000</td>\n",
              "      <td>0.000000</td>\n",
              "      <td>0.000000</td>\n",
              "      <td>0.000000</td>\n",
              "      <td>0.000000</td>\n",
              "    </tr>\n",
              "    <tr>\n",
              "      <th>50%</th>\n",
              "      <td>0.443080</td>\n",
              "      <td>48.000000</td>\n",
              "      <td>0.000000</td>\n",
              "      <td>0.322299</td>\n",
              "      <td>5000.000000</td>\n",
              "      <td>8.000000</td>\n",
              "      <td>0.000000</td>\n",
              "      <td>1.000000</td>\n",
              "      <td>0.000000</td>\n",
              "      <td>0.000000</td>\n",
              "      <td>0.500000</td>\n",
              "    </tr>\n",
              "    <tr>\n",
              "      <th>75%</th>\n",
              "      <td>0.926637</td>\n",
              "      <td>58.000000</td>\n",
              "      <td>1.000000</td>\n",
              "      <td>0.533426</td>\n",
              "      <td>7573.000000</td>\n",
              "      <td>11.000000</td>\n",
              "      <td>0.000000</td>\n",
              "      <td>2.000000</td>\n",
              "      <td>0.000000</td>\n",
              "      <td>2.000000</td>\n",
              "      <td>1.000000</td>\n",
              "    </tr>\n",
              "    <tr>\n",
              "      <th>max</th>\n",
              "      <td>22000.000000</td>\n",
              "      <td>101.000000</td>\n",
              "      <td>98.000000</td>\n",
              "      <td>61106.500000</td>\n",
              "      <td>250000.000000</td>\n",
              "      <td>57.000000</td>\n",
              "      <td>98.000000</td>\n",
              "      <td>29.000000</td>\n",
              "      <td>98.000000</td>\n",
              "      <td>8.000000</td>\n",
              "      <td>1.000000</td>\n",
              "    </tr>\n",
              "  </tbody>\n",
              "</table>\n",
              "</div>\n",
              "    <div class=\"colab-df-buttons\">\n",
              "\n",
              "  <div class=\"colab-df-container\">\n",
              "    <button class=\"colab-df-convert\" onclick=\"convertToInteractive('df-108f3fc4-c510-44e0-8515-d3843b2858ca')\"\n",
              "            title=\"Convert this dataframe to an interactive table.\"\n",
              "            style=\"display:none;\">\n",
              "\n",
              "  <svg xmlns=\"http://www.w3.org/2000/svg\" height=\"24px\" viewBox=\"0 -960 960 960\">\n",
              "    <path d=\"M120-120v-720h720v720H120Zm60-500h600v-160H180v160Zm220 220h160v-160H400v160Zm0 220h160v-160H400v160ZM180-400h160v-160H180v160Zm440 0h160v-160H620v160ZM180-180h160v-160H180v160Zm440 0h160v-160H620v160Z\"/>\n",
              "  </svg>\n",
              "    </button>\n",
              "\n",
              "  <style>\n",
              "    .colab-df-container {\n",
              "      display:flex;\n",
              "      gap: 12px;\n",
              "    }\n",
              "\n",
              "    .colab-df-convert {\n",
              "      background-color: #E8F0FE;\n",
              "      border: none;\n",
              "      border-radius: 50%;\n",
              "      cursor: pointer;\n",
              "      display: none;\n",
              "      fill: #1967D2;\n",
              "      height: 32px;\n",
              "      padding: 0 0 0 0;\n",
              "      width: 32px;\n",
              "    }\n",
              "\n",
              "    .colab-df-convert:hover {\n",
              "      background-color: #E2EBFA;\n",
              "      box-shadow: 0px 1px 2px rgba(60, 64, 67, 0.3), 0px 1px 3px 1px rgba(60, 64, 67, 0.15);\n",
              "      fill: #174EA6;\n",
              "    }\n",
              "\n",
              "    .colab-df-buttons div {\n",
              "      margin-bottom: 4px;\n",
              "    }\n",
              "\n",
              "    [theme=dark] .colab-df-convert {\n",
              "      background-color: #3B4455;\n",
              "      fill: #D2E3FC;\n",
              "    }\n",
              "\n",
              "    [theme=dark] .colab-df-convert:hover {\n",
              "      background-color: #434B5C;\n",
              "      box-shadow: 0px 1px 3px 1px rgba(0, 0, 0, 0.15);\n",
              "      filter: drop-shadow(0px 1px 2px rgba(0, 0, 0, 0.3));\n",
              "      fill: #FFFFFF;\n",
              "    }\n",
              "  </style>\n",
              "\n",
              "    <script>\n",
              "      const buttonEl =\n",
              "        document.querySelector('#df-108f3fc4-c510-44e0-8515-d3843b2858ca button.colab-df-convert');\n",
              "      buttonEl.style.display =\n",
              "        google.colab.kernel.accessAllowed ? 'block' : 'none';\n",
              "\n",
              "      async function convertToInteractive(key) {\n",
              "        const element = document.querySelector('#df-108f3fc4-c510-44e0-8515-d3843b2858ca');\n",
              "        const dataTable =\n",
              "          await google.colab.kernel.invokeFunction('convertToInteractive',\n",
              "                                                    [key], {});\n",
              "        if (!dataTable) return;\n",
              "\n",
              "        const docLinkHtml = 'Like what you see? Visit the ' +\n",
              "          '<a target=\"_blank\" href=https://colab.research.google.com/notebooks/data_table.ipynb>data table notebook</a>'\n",
              "          + ' to learn more about interactive tables.';\n",
              "        element.innerHTML = '';\n",
              "        dataTable['output_type'] = 'display_data';\n",
              "        await google.colab.output.renderOutput(dataTable, element);\n",
              "        const docLink = document.createElement('div');\n",
              "        docLink.innerHTML = docLinkHtml;\n",
              "        element.appendChild(docLink);\n",
              "      }\n",
              "    </script>\n",
              "  </div>\n",
              "\n",
              "\n",
              "    <div id=\"df-4c4a03b2-32ca-4afa-8607-41e89d2baf9f\">\n",
              "      <button class=\"colab-df-quickchart\" onclick=\"quickchart('df-4c4a03b2-32ca-4afa-8607-41e89d2baf9f')\"\n",
              "                title=\"Suggest charts\"\n",
              "                style=\"display:none;\">\n",
              "\n",
              "<svg xmlns=\"http://www.w3.org/2000/svg\" height=\"24px\"viewBox=\"0 0 24 24\"\n",
              "     width=\"24px\">\n",
              "    <g>\n",
              "        <path d=\"M19 3H5c-1.1 0-2 .9-2 2v14c0 1.1.9 2 2 2h14c1.1 0 2-.9 2-2V5c0-1.1-.9-2-2-2zM9 17H7v-7h2v7zm4 0h-2V7h2v10zm4 0h-2v-4h2v4z\"/>\n",
              "    </g>\n",
              "</svg>\n",
              "      </button>\n",
              "\n",
              "<style>\n",
              "  .colab-df-quickchart {\n",
              "      --bg-color: #E8F0FE;\n",
              "      --fill-color: #1967D2;\n",
              "      --hover-bg-color: #E2EBFA;\n",
              "      --hover-fill-color: #174EA6;\n",
              "      --disabled-fill-color: #AAA;\n",
              "      --disabled-bg-color: #DDD;\n",
              "  }\n",
              "\n",
              "  [theme=dark] .colab-df-quickchart {\n",
              "      --bg-color: #3B4455;\n",
              "      --fill-color: #D2E3FC;\n",
              "      --hover-bg-color: #434B5C;\n",
              "      --hover-fill-color: #FFFFFF;\n",
              "      --disabled-bg-color: #3B4455;\n",
              "      --disabled-fill-color: #666;\n",
              "  }\n",
              "\n",
              "  .colab-df-quickchart {\n",
              "    background-color: var(--bg-color);\n",
              "    border: none;\n",
              "    border-radius: 50%;\n",
              "    cursor: pointer;\n",
              "    display: none;\n",
              "    fill: var(--fill-color);\n",
              "    height: 32px;\n",
              "    padding: 0;\n",
              "    width: 32px;\n",
              "  }\n",
              "\n",
              "  .colab-df-quickchart:hover {\n",
              "    background-color: var(--hover-bg-color);\n",
              "    box-shadow: 0 1px 2px rgba(60, 64, 67, 0.3), 0 1px 3px 1px rgba(60, 64, 67, 0.15);\n",
              "    fill: var(--button-hover-fill-color);\n",
              "  }\n",
              "\n",
              "  .colab-df-quickchart-complete:disabled,\n",
              "  .colab-df-quickchart-complete:disabled:hover {\n",
              "    background-color: var(--disabled-bg-color);\n",
              "    fill: var(--disabled-fill-color);\n",
              "    box-shadow: none;\n",
              "  }\n",
              "\n",
              "  .colab-df-spinner {\n",
              "    border: 2px solid var(--fill-color);\n",
              "    border-color: transparent;\n",
              "    border-bottom-color: var(--fill-color);\n",
              "    animation:\n",
              "      spin 1s steps(1) infinite;\n",
              "  }\n",
              "\n",
              "  @keyframes spin {\n",
              "    0% {\n",
              "      border-color: transparent;\n",
              "      border-bottom-color: var(--fill-color);\n",
              "      border-left-color: var(--fill-color);\n",
              "    }\n",
              "    20% {\n",
              "      border-color: transparent;\n",
              "      border-left-color: var(--fill-color);\n",
              "      border-top-color: var(--fill-color);\n",
              "    }\n",
              "    30% {\n",
              "      border-color: transparent;\n",
              "      border-left-color: var(--fill-color);\n",
              "      border-top-color: var(--fill-color);\n",
              "      border-right-color: var(--fill-color);\n",
              "    }\n",
              "    40% {\n",
              "      border-color: transparent;\n",
              "      border-right-color: var(--fill-color);\n",
              "      border-top-color: var(--fill-color);\n",
              "    }\n",
              "    60% {\n",
              "      border-color: transparent;\n",
              "      border-right-color: var(--fill-color);\n",
              "    }\n",
              "    80% {\n",
              "      border-color: transparent;\n",
              "      border-right-color: var(--fill-color);\n",
              "      border-bottom-color: var(--fill-color);\n",
              "    }\n",
              "    90% {\n",
              "      border-color: transparent;\n",
              "      border-bottom-color: var(--fill-color);\n",
              "    }\n",
              "  }\n",
              "</style>\n",
              "\n",
              "      <script>\n",
              "        async function quickchart(key) {\n",
              "          const quickchartButtonEl =\n",
              "            document.querySelector('#' + key + ' button');\n",
              "          quickchartButtonEl.disabled = true;  // To prevent multiple clicks.\n",
              "          quickchartButtonEl.classList.add('colab-df-spinner');\n",
              "          try {\n",
              "            const charts = await google.colab.kernel.invokeFunction(\n",
              "                'suggestCharts', [key], {});\n",
              "          } catch (error) {\n",
              "            console.error('Error during call to suggestCharts:', error);\n",
              "          }\n",
              "          quickchartButtonEl.classList.remove('colab-df-spinner');\n",
              "          quickchartButtonEl.classList.add('colab-df-quickchart-complete');\n",
              "        }\n",
              "        (() => {\n",
              "          let quickchartButtonEl =\n",
              "            document.querySelector('#df-4c4a03b2-32ca-4afa-8607-41e89d2baf9f button');\n",
              "          quickchartButtonEl.style.display =\n",
              "            google.colab.kernel.accessAllowed ? 'block' : 'none';\n",
              "        })();\n",
              "      </script>\n",
              "    </div>\n",
              "\n",
              "    </div>\n",
              "  </div>\n"
            ],
            "application/vnd.google.colaboratory.intrinsic+json": {
              "type": "dataframe",
              "summary": "{\n  \"name\": \"dados\",\n  \"rows\": 8,\n  \"fields\": [\n    {\n      \"column\": \"rev_util\",\n      \"properties\": {\n        \"dtype\": \"number\",\n        \"std\": 9055.47727600754,\n        \"min\": 0.0,\n        \"max\": 22000.0,\n        \"num_unique_values\": 8,\n        \"samples\": [\n          4.799861546277432,\n          0.4430804445,\n          16714.0\n        ],\n        \"semantic_type\": \"\",\n        \"description\": \"\"\n      }\n    },\n    {\n      \"column\": \"age\",\n      \"properties\": {\n        \"dtype\": \"number\",\n        \"std\": 5892.748589082455,\n        \"min\": 13.906078460885976,\n        \"max\": 16714.0,\n        \"num_unique_values\": 8,\n        \"samples\": [\n          48.79867177216705,\n          48.0,\n          16714.0\n        ],\n        \"semantic_type\": \"\",\n        \"description\": \"\"\n      }\n    },\n    {\n      \"column\": \"late_30_59\",\n      \"properties\": {\n        \"dtype\": \"number\",\n        \"std\": 5903.96970329061,\n        \"min\": 0.0,\n        \"max\": 16714.0,\n        \"num_unique_values\": 6,\n        \"samples\": [\n          16714.0,\n          1.1102668421682422,\n          98.0\n        ],\n        \"semantic_type\": \"\",\n        \"description\": \"\"\n      }\n    },\n    {\n      \"column\": \"debt_ratio\",\n      \"properties\": {\n        \"dtype\": \"number\",\n        \"std\": 21521.35979100813,\n        \"min\": 0.0,\n        \"max\": 61106.5,\n        \"num_unique_values\": 8,\n        \"samples\": [\n          30.980298201393204,\n          0.3222994135,\n          16714.0\n        ],\n        \"semantic_type\": \"\",\n        \"description\": \"\"\n      }\n    },\n    {\n      \"column\": \"monthly_inc\",\n      \"properties\": {\n        \"dtype\": \"number\",\n        \"std\": 86276.44541822719,\n        \"min\": 0.0,\n        \"max\": 250000.0,\n        \"num_unique_values\": 8,\n        \"samples\": [\n          6118.120258465957,\n          5000.0,\n          16714.0\n        ],\n        \"semantic_type\": \"\",\n        \"description\": \"\"\n      }\n    },\n    {\n      \"column\": \"open_credit\",\n      \"properties\": {\n        \"dtype\": \"number\",\n        \"std\": 5904.5269882432485,\n        \"min\": 0.0,\n        \"max\": 16714.0,\n        \"num_unique_values\": 8,\n        \"samples\": [\n          8.503709465119062,\n          8.0,\n          16714.0\n        ],\n        \"semantic_type\": \"\",\n        \"description\": \"\"\n      }\n    },\n    {\n      \"column\": \"late_90\",\n      \"properties\": {\n        \"dtype\": \"number\",\n        \"std\": 5904.033367988063,\n        \"min\": 0.0,\n        \"max\": 16714.0,\n        \"num_unique_values\": 5,\n        \"samples\": [\n          0.8638267320808902,\n          98.0,\n          7.167575884359679\n        ],\n        \"semantic_type\": \"\",\n        \"description\": \"\"\n      }\n    },\n    {\n      \"column\": \"real_estate\",\n      \"properties\": {\n        \"dtype\": \"number\",\n        \"std\": 5907.5661754670155,\n        \"min\": 0.0,\n        \"max\": 16714.0,\n        \"num_unique_values\": 7,\n        \"samples\": [\n          16714.0,\n          1.0474452554744527,\n          2.0\n        ],\n        \"semantic_type\": \"\",\n        \"description\": \"\"\n      }\n    },\n    {\n      \"column\": \"late_60_89\",\n      \"properties\": {\n        \"dtype\": \"number\",\n        \"std\": 5904.041414288379,\n        \"min\": 0.0,\n        \"max\": 16714.0,\n        \"num_unique_values\": 5,\n        \"samples\": [\n          0.7343544334091181,\n          98.0,\n          7.138736504967538\n        ],\n        \"semantic_type\": \"\",\n        \"description\": \"\"\n      }\n    },\n    {\n      \"column\": \"dependents\",\n      \"properties\": {\n        \"dtype\": \"number\",\n        \"std\": 5908.678644265566,\n        \"min\": 0.0,\n        \"max\": 16714.0,\n        \"num_unique_values\": 6,\n        \"samples\": [\n          16714.0,\n          0.944358023214072,\n          8.0\n        ],\n        \"semantic_type\": \"\",\n        \"description\": \"\"\n      }\n    },\n    {\n      \"column\": \"dlq_2yrs\",\n      \"properties\": {\n        \"dtype\": \"number\",\n        \"std\": 5909.114605013042,\n        \"min\": 0.0,\n        \"max\": 16714.0,\n        \"num_unique_values\": 5,\n        \"samples\": [\n          0.5,\n          1.0,\n          0.5000149581918572\n        ],\n        \"semantic_type\": \"\",\n        \"description\": \"\"\n      }\n    }\n  ]\n}"
            }
          },
          "metadata": {},
          "execution_count": 136
        }
      ]
    },
    {
      "cell_type": "code",
      "source": [
        "idades = dados.query('age < 50').groupby('age', as_index=False)['age'].value_counts()\n",
        "idades['Freq. rel'] = idades['count'] / len(dados) * 100\n",
        "idades['Freq. acumulada'] = idades['Freq. rel'].cumsum()\n",
        "idades.style.background_gradient(subset='Freq. acumulada')"
      ],
      "metadata": {
        "colab": {
          "base_uri": "https://localhost:8080/",
          "height": 958
        },
        "id": "miOGt02RFlfM",
        "outputId": "9535a78c-4a25-4929-b1ad-ab6e53412f66"
      },
      "execution_count": 137,
      "outputs": [
        {
          "output_type": "execute_result",
          "data": {
            "text/plain": [
              "<pandas.io.formats.style.Styler at 0x7800bad4f290>"
            ],
            "text/html": [
              "<style type=\"text/css\">\n",
              "#T_f44ac_row0_col3 {\n",
              "  background-color: #fff7fb;\n",
              "  color: #000000;\n",
              "}\n",
              "#T_f44ac_row1_col3 {\n",
              "  background-color: #fef6fb;\n",
              "  color: #000000;\n",
              "}\n",
              "#T_f44ac_row2_col3 {\n",
              "  background-color: #fdf5fa;\n",
              "  color: #000000;\n",
              "}\n",
              "#T_f44ac_row3_col3 {\n",
              "  background-color: #fbf4f9;\n",
              "  color: #000000;\n",
              "}\n",
              "#T_f44ac_row4_col3 {\n",
              "  background-color: #f9f2f8;\n",
              "  color: #000000;\n",
              "}\n",
              "#T_f44ac_row5_col3 {\n",
              "  background-color: #f6eff7;\n",
              "  color: #000000;\n",
              "}\n",
              "#T_f44ac_row6_col3 {\n",
              "  background-color: #f2ecf5;\n",
              "  color: #000000;\n",
              "}\n",
              "#T_f44ac_row7_col3 {\n",
              "  background-color: #eee8f3;\n",
              "  color: #000000;\n",
              "}\n",
              "#T_f44ac_row8_col3 {\n",
              "  background-color: #e8e4f0;\n",
              "  color: #000000;\n",
              "}\n",
              "#T_f44ac_row9_col3 {\n",
              "  background-color: #e0deed;\n",
              "  color: #000000;\n",
              "}\n",
              "#T_f44ac_row10_col3 {\n",
              "  background-color: #d9d8ea;\n",
              "  color: #000000;\n",
              "}\n",
              "#T_f44ac_row11_col3 {\n",
              "  background-color: #d2d2e7;\n",
              "  color: #000000;\n",
              "}\n",
              "#T_f44ac_row12_col3 {\n",
              "  background-color: #c6cce3;\n",
              "  color: #000000;\n",
              "}\n",
              "#T_f44ac_row13_col3 {\n",
              "  background-color: #bbc7e0;\n",
              "  color: #000000;\n",
              "}\n",
              "#T_f44ac_row14_col3 {\n",
              "  background-color: #adc1dd;\n",
              "  color: #000000;\n",
              "}\n",
              "#T_f44ac_row15_col3 {\n",
              "  background-color: #a1bbda;\n",
              "  color: #000000;\n",
              "}\n",
              "#T_f44ac_row16_col3 {\n",
              "  background-color: #91b5d6;\n",
              "  color: #000000;\n",
              "}\n",
              "#T_f44ac_row17_col3 {\n",
              "  background-color: #81aed2;\n",
              "  color: #f1f1f1;\n",
              "}\n",
              "#T_f44ac_row18_col3 {\n",
              "  background-color: #6fa7ce;\n",
              "  color: #f1f1f1;\n",
              "}\n",
              "#T_f44ac_row19_col3 {\n",
              "  background-color: #589ec8;\n",
              "  color: #f1f1f1;\n",
              "}\n",
              "#T_f44ac_row20_col3 {\n",
              "  background-color: #4094c3;\n",
              "  color: #f1f1f1;\n",
              "}\n",
              "#T_f44ac_row21_col3 {\n",
              "  background-color: #2c89bd;\n",
              "  color: #f1f1f1;\n",
              "}\n",
              "#T_f44ac_row22_col3 {\n",
              "  background-color: #197db7;\n",
              "  color: #f1f1f1;\n",
              "}\n",
              "#T_f44ac_row23_col3 {\n",
              "  background-color: #0771b1;\n",
              "  color: #f1f1f1;\n",
              "}\n",
              "#T_f44ac_row24_col3 {\n",
              "  background-color: #0569a4;\n",
              "  color: #f1f1f1;\n",
              "}\n",
              "#T_f44ac_row25_col3 {\n",
              "  background-color: #046096;\n",
              "  color: #f1f1f1;\n",
              "}\n",
              "#T_f44ac_row26_col3 {\n",
              "  background-color: #045585;\n",
              "  color: #f1f1f1;\n",
              "}\n",
              "#T_f44ac_row27_col3 {\n",
              "  background-color: #03476f;\n",
              "  color: #f1f1f1;\n",
              "}\n",
              "#T_f44ac_row28_col3 {\n",
              "  background-color: #023858;\n",
              "  color: #f1f1f1;\n",
              "}\n",
              "</style>\n",
              "<table id=\"T_f44ac\" class=\"dataframe\">\n",
              "  <thead>\n",
              "    <tr>\n",
              "      <th class=\"blank level0\" >&nbsp;</th>\n",
              "      <th id=\"T_f44ac_level0_col0\" class=\"col_heading level0 col0\" >age</th>\n",
              "      <th id=\"T_f44ac_level0_col1\" class=\"col_heading level0 col1\" >count</th>\n",
              "      <th id=\"T_f44ac_level0_col2\" class=\"col_heading level0 col2\" >Freq. rel</th>\n",
              "      <th id=\"T_f44ac_level0_col3\" class=\"col_heading level0 col3\" >Freq. acumulada</th>\n",
              "    </tr>\n",
              "  </thead>\n",
              "  <tbody>\n",
              "    <tr>\n",
              "      <th id=\"T_f44ac_level0_row0\" class=\"row_heading level0 row0\" >0</th>\n",
              "      <td id=\"T_f44ac_row0_col0\" class=\"data row0 col0\" >21</td>\n",
              "      <td id=\"T_f44ac_row0_col1\" class=\"data row0 col1\" >16</td>\n",
              "      <td id=\"T_f44ac_row0_col2\" class=\"data row0 col2\" >0.095728</td>\n",
              "      <td id=\"T_f44ac_row0_col3\" class=\"data row0 col3\" >0.095728</td>\n",
              "    </tr>\n",
              "    <tr>\n",
              "      <th id=\"T_f44ac_level0_row1\" class=\"row_heading level0 row1\" >1</th>\n",
              "      <td id=\"T_f44ac_row1_col0\" class=\"data row1 col0\" >22</td>\n",
              "      <td id=\"T_f44ac_row1_col1\" class=\"data row1 col1\" >46</td>\n",
              "      <td id=\"T_f44ac_row1_col2\" class=\"data row1 col2\" >0.275218</td>\n",
              "      <td id=\"T_f44ac_row1_col3\" class=\"data row1 col3\" >0.370947</td>\n",
              "    </tr>\n",
              "    <tr>\n",
              "      <th id=\"T_f44ac_level0_row2\" class=\"row_heading level0 row2\" >2</th>\n",
              "      <td id=\"T_f44ac_row2_col0\" class=\"data row2 col0\" >23</td>\n",
              "      <td id=\"T_f44ac_row2_col1\" class=\"data row2 col1\" >88</td>\n",
              "      <td id=\"T_f44ac_row2_col2\" class=\"data row2 col2\" >0.526505</td>\n",
              "      <td id=\"T_f44ac_row2_col3\" class=\"data row2 col3\" >0.897451</td>\n",
              "    </tr>\n",
              "    <tr>\n",
              "      <th id=\"T_f44ac_level0_row3\" class=\"row_heading level0 row3\" >3</th>\n",
              "      <td id=\"T_f44ac_row3_col0\" class=\"data row3 col0\" >24</td>\n",
              "      <td id=\"T_f44ac_row3_col1\" class=\"data row3 col1\" >108</td>\n",
              "      <td id=\"T_f44ac_row3_col2\" class=\"data row3 col2\" >0.646165</td>\n",
              "      <td id=\"T_f44ac_row3_col3\" class=\"data row3 col3\" >1.543616</td>\n",
              "    </tr>\n",
              "    <tr>\n",
              "      <th id=\"T_f44ac_level0_row4\" class=\"row_heading level0 row4\" >4</th>\n",
              "      <td id=\"T_f44ac_row4_col0\" class=\"data row4 col0\" >25</td>\n",
              "      <td id=\"T_f44ac_row4_col1\" class=\"data row4 col1\" >141</td>\n",
              "      <td id=\"T_f44ac_row4_col2\" class=\"data row4 col2\" >0.843604</td>\n",
              "      <td id=\"T_f44ac_row4_col3\" class=\"data row4 col3\" >2.387220</td>\n",
              "    </tr>\n",
              "    <tr>\n",
              "      <th id=\"T_f44ac_level0_row5\" class=\"row_heading level0 row5\" >5</th>\n",
              "      <td id=\"T_f44ac_row5_col0\" class=\"data row5 col0\" >26</td>\n",
              "      <td id=\"T_f44ac_row5_col1\" class=\"data row5 col1\" >179</td>\n",
              "      <td id=\"T_f44ac_row5_col2\" class=\"data row5 col2\" >1.070958</td>\n",
              "      <td id=\"T_f44ac_row5_col3\" class=\"data row5 col3\" >3.458179</td>\n",
              "    </tr>\n",
              "    <tr>\n",
              "      <th id=\"T_f44ac_level0_row6\" class=\"row_heading level0 row6\" >6</th>\n",
              "      <td id=\"T_f44ac_row6_col0\" class=\"data row6 col0\" >27</td>\n",
              "      <td id=\"T_f44ac_row6_col1\" class=\"data row6 col1\" >216</td>\n",
              "      <td id=\"T_f44ac_row6_col2\" class=\"data row6 col2\" >1.292330</td>\n",
              "      <td id=\"T_f44ac_row6_col3\" class=\"data row6 col3\" >4.750509</td>\n",
              "    </tr>\n",
              "    <tr>\n",
              "      <th id=\"T_f44ac_level0_row7\" class=\"row_heading level0 row7\" >7</th>\n",
              "      <td id=\"T_f44ac_row7_col0\" class=\"data row7 col0\" >28</td>\n",
              "      <td id=\"T_f44ac_row7_col1\" class=\"data row7 col1\" >259</td>\n",
              "      <td id=\"T_f44ac_row7_col2\" class=\"data row7 col2\" >1.549599</td>\n",
              "      <td id=\"T_f44ac_row7_col3\" class=\"data row7 col3\" >6.300108</td>\n",
              "    </tr>\n",
              "    <tr>\n",
              "      <th id=\"T_f44ac_level0_row8\" class=\"row_heading level0 row8\" >8</th>\n",
              "      <td id=\"T_f44ac_row8_col0\" class=\"data row8 col0\" >29</td>\n",
              "      <td id=\"T_f44ac_row8_col1\" class=\"data row8 col1\" >250</td>\n",
              "      <td id=\"T_f44ac_row8_col2\" class=\"data row8 col2\" >1.495752</td>\n",
              "      <td id=\"T_f44ac_row8_col3\" class=\"data row8 col3\" >7.795860</td>\n",
              "    </tr>\n",
              "    <tr>\n",
              "      <th id=\"T_f44ac_level0_row9\" class=\"row_heading level0 row9\" >9</th>\n",
              "      <td id=\"T_f44ac_row9_col0\" class=\"data row9 col0\" >30</td>\n",
              "      <td id=\"T_f44ac_row9_col1\" class=\"data row9 col1\" >305</td>\n",
              "      <td id=\"T_f44ac_row9_col2\" class=\"data row9 col2\" >1.824818</td>\n",
              "      <td id=\"T_f44ac_row9_col3\" class=\"data row9 col3\" >9.620677</td>\n",
              "    </tr>\n",
              "    <tr>\n",
              "      <th id=\"T_f44ac_level0_row10\" class=\"row_heading level0 row10\" >10</th>\n",
              "      <td id=\"T_f44ac_row10_col0\" class=\"data row10 col0\" >31</td>\n",
              "      <td id=\"T_f44ac_row10_col1\" class=\"data row10 col1\" >303</td>\n",
              "      <td id=\"T_f44ac_row10_col2\" class=\"data row10 col2\" >1.812852</td>\n",
              "      <td id=\"T_f44ac_row10_col3\" class=\"data row10 col3\" >11.433529</td>\n",
              "    </tr>\n",
              "    <tr>\n",
              "      <th id=\"T_f44ac_level0_row11\" class=\"row_heading level0 row11\" >11</th>\n",
              "      <td id=\"T_f44ac_row11_col0\" class=\"data row11 col0\" >32</td>\n",
              "      <td id=\"T_f44ac_row11_col1\" class=\"data row11 col1\" >310</td>\n",
              "      <td id=\"T_f44ac_row11_col2\" class=\"data row11 col2\" >1.854733</td>\n",
              "      <td id=\"T_f44ac_row11_col3\" class=\"data row11 col3\" >13.288261</td>\n",
              "    </tr>\n",
              "    <tr>\n",
              "      <th id=\"T_f44ac_level0_row12\" class=\"row_heading level0 row12\" >12</th>\n",
              "      <td id=\"T_f44ac_row12_col0\" class=\"data row12 col0\" >33</td>\n",
              "      <td id=\"T_f44ac_row12_col1\" class=\"data row12 col1\" >332</td>\n",
              "      <td id=\"T_f44ac_row12_col2\" class=\"data row12 col2\" >1.986359</td>\n",
              "      <td id=\"T_f44ac_row12_col3\" class=\"data row12 col3\" >15.274620</td>\n",
              "    </tr>\n",
              "    <tr>\n",
              "      <th id=\"T_f44ac_level0_row13\" class=\"row_heading level0 row13\" >13</th>\n",
              "      <td id=\"T_f44ac_row13_col0\" class=\"data row13 col0\" >34</td>\n",
              "      <td id=\"T_f44ac_row13_col1\" class=\"data row13 col1\" >313</td>\n",
              "      <td id=\"T_f44ac_row13_col2\" class=\"data row13 col2\" >1.872682</td>\n",
              "      <td id=\"T_f44ac_row13_col3\" class=\"data row13 col3\" >17.147302</td>\n",
              "    </tr>\n",
              "    <tr>\n",
              "      <th id=\"T_f44ac_level0_row14\" class=\"row_heading level0 row14\" >14</th>\n",
              "      <td id=\"T_f44ac_row14_col0\" class=\"data row14 col0\" >35</td>\n",
              "      <td id=\"T_f44ac_row14_col1\" class=\"data row14 col1\" >332</td>\n",
              "      <td id=\"T_f44ac_row14_col2\" class=\"data row14 col2\" >1.986359</td>\n",
              "      <td id=\"T_f44ac_row14_col3\" class=\"data row14 col3\" >19.133660</td>\n",
              "    </tr>\n",
              "    <tr>\n",
              "      <th id=\"T_f44ac_level0_row15\" class=\"row_heading level0 row15\" >15</th>\n",
              "      <td id=\"T_f44ac_row15_col0\" class=\"data row15 col0\" >36</td>\n",
              "      <td id=\"T_f44ac_row15_col1\" class=\"data row15 col1\" >332</td>\n",
              "      <td id=\"T_f44ac_row15_col2\" class=\"data row15 col2\" >1.986359</td>\n",
              "      <td id=\"T_f44ac_row15_col3\" class=\"data row15 col3\" >21.120019</td>\n",
              "    </tr>\n",
              "    <tr>\n",
              "      <th id=\"T_f44ac_level0_row16\" class=\"row_heading level0 row16\" >16</th>\n",
              "      <td id=\"T_f44ac_row16_col0\" class=\"data row16 col0\" >37</td>\n",
              "      <td id=\"T_f44ac_row16_col1\" class=\"data row16 col1\" >334</td>\n",
              "      <td id=\"T_f44ac_row16_col2\" class=\"data row16 col2\" >1.998325</td>\n",
              "      <td id=\"T_f44ac_row16_col3\" class=\"data row16 col3\" >23.118344</td>\n",
              "    </tr>\n",
              "    <tr>\n",
              "      <th id=\"T_f44ac_level0_row17\" class=\"row_heading level0 row17\" >17</th>\n",
              "      <td id=\"T_f44ac_row17_col0\" class=\"data row17 col0\" >38</td>\n",
              "      <td id=\"T_f44ac_row17_col1\" class=\"data row17 col1\" >359</td>\n",
              "      <td id=\"T_f44ac_row17_col2\" class=\"data row17 col2\" >2.147900</td>\n",
              "      <td id=\"T_f44ac_row17_col3\" class=\"data row17 col3\" >25.266244</td>\n",
              "    </tr>\n",
              "    <tr>\n",
              "      <th id=\"T_f44ac_level0_row18\" class=\"row_heading level0 row18\" >18</th>\n",
              "      <td id=\"T_f44ac_row18_col0\" class=\"data row18 col0\" >39</td>\n",
              "      <td id=\"T_f44ac_row18_col1\" class=\"data row18 col1\" >413</td>\n",
              "      <td id=\"T_f44ac_row18_col2\" class=\"data row18 col2\" >2.470982</td>\n",
              "      <td id=\"T_f44ac_row18_col3\" class=\"data row18 col3\" >27.737226</td>\n",
              "    </tr>\n",
              "    <tr>\n",
              "      <th id=\"T_f44ac_level0_row19\" class=\"row_heading level0 row19\" >19</th>\n",
              "      <td id=\"T_f44ac_row19_col0\" class=\"data row19 col0\" >40</td>\n",
              "      <td id=\"T_f44ac_row19_col1\" class=\"data row19 col1\" >409</td>\n",
              "      <td id=\"T_f44ac_row19_col2\" class=\"data row19 col2\" >2.447050</td>\n",
              "      <td id=\"T_f44ac_row19_col3\" class=\"data row19 col3\" >30.184277</td>\n",
              "    </tr>\n",
              "    <tr>\n",
              "      <th id=\"T_f44ac_level0_row20\" class=\"row_heading level0 row20\" >20</th>\n",
              "      <td id=\"T_f44ac_row20_col0\" class=\"data row20 col0\" >41</td>\n",
              "      <td id=\"T_f44ac_row20_col1\" class=\"data row20 col1\" >433</td>\n",
              "      <td id=\"T_f44ac_row20_col2\" class=\"data row20 col2\" >2.590643</td>\n",
              "      <td id=\"T_f44ac_row20_col3\" class=\"data row20 col3\" >32.774919</td>\n",
              "    </tr>\n",
              "    <tr>\n",
              "      <th id=\"T_f44ac_level0_row21\" class=\"row_heading level0 row21\" >21</th>\n",
              "      <td id=\"T_f44ac_row21_col0\" class=\"data row21 col0\" >42</td>\n",
              "      <td id=\"T_f44ac_row21_col1\" class=\"data row21 col1\" >420</td>\n",
              "      <td id=\"T_f44ac_row21_col2\" class=\"data row21 col2\" >2.512863</td>\n",
              "      <td id=\"T_f44ac_row21_col3\" class=\"data row21 col3\" >35.287783</td>\n",
              "    </tr>\n",
              "    <tr>\n",
              "      <th id=\"T_f44ac_level0_row22\" class=\"row_heading level0 row22\" >22</th>\n",
              "      <td id=\"T_f44ac_row22_col0\" class=\"data row22 col0\" >43</td>\n",
              "      <td id=\"T_f44ac_row22_col1\" class=\"data row22 col1\" >428</td>\n",
              "      <td id=\"T_f44ac_row22_col2\" class=\"data row22 col2\" >2.560728</td>\n",
              "      <td id=\"T_f44ac_row22_col3\" class=\"data row22 col3\" >37.848510</td>\n",
              "    </tr>\n",
              "    <tr>\n",
              "      <th id=\"T_f44ac_level0_row23\" class=\"row_heading level0 row23\" >23</th>\n",
              "      <td id=\"T_f44ac_row23_col0\" class=\"data row23 col0\" >44</td>\n",
              "      <td id=\"T_f44ac_row23_col1\" class=\"data row23 col1\" >400</td>\n",
              "      <td id=\"T_f44ac_row23_col2\" class=\"data row23 col2\" >2.393203</td>\n",
              "      <td id=\"T_f44ac_row23_col3\" class=\"data row23 col3\" >40.241714</td>\n",
              "    </tr>\n",
              "    <tr>\n",
              "      <th id=\"T_f44ac_level0_row24\" class=\"row_heading level0 row24\" >24</th>\n",
              "      <td id=\"T_f44ac_row24_col0\" class=\"data row24 col0\" >45</td>\n",
              "      <td id=\"T_f44ac_row24_col1\" class=\"data row24 col1\" >427</td>\n",
              "      <td id=\"T_f44ac_row24_col2\" class=\"data row24 col2\" >2.554745</td>\n",
              "      <td id=\"T_f44ac_row24_col3\" class=\"data row24 col3\" >42.796458</td>\n",
              "    </tr>\n",
              "    <tr>\n",
              "      <th id=\"T_f44ac_level0_row25\" class=\"row_heading level0 row25\" >25</th>\n",
              "      <td id=\"T_f44ac_row25_col0\" class=\"data row25 col0\" >46</td>\n",
              "      <td id=\"T_f44ac_row25_col1\" class=\"data row25 col1\" >479</td>\n",
              "      <td id=\"T_f44ac_row25_col2\" class=\"data row25 col2\" >2.865861</td>\n",
              "      <td id=\"T_f44ac_row25_col3\" class=\"data row25 col3\" >45.662319</td>\n",
              "    </tr>\n",
              "    <tr>\n",
              "      <th id=\"T_f44ac_level0_row26\" class=\"row_heading level0 row26\" >26</th>\n",
              "      <td id=\"T_f44ac_row26_col0\" class=\"data row26 col0\" >47</td>\n",
              "      <td id=\"T_f44ac_row26_col1\" class=\"data row26 col1\" >453</td>\n",
              "      <td id=\"T_f44ac_row26_col2\" class=\"data row26 col2\" >2.710303</td>\n",
              "      <td id=\"T_f44ac_row26_col3\" class=\"data row26 col3\" >48.372622</td>\n",
              "    </tr>\n",
              "    <tr>\n",
              "      <th id=\"T_f44ac_level0_row27\" class=\"row_heading level0 row27\" >27</th>\n",
              "      <td id=\"T_f44ac_row27_col0\" class=\"data row27 col0\" >48</td>\n",
              "      <td id=\"T_f44ac_row27_col1\" class=\"data row27 col1\" >468</td>\n",
              "      <td id=\"T_f44ac_row27_col2\" class=\"data row27 col2\" >2.800048</td>\n",
              "      <td id=\"T_f44ac_row27_col3\" class=\"data row27 col3\" >51.172670</td>\n",
              "    </tr>\n",
              "    <tr>\n",
              "      <th id=\"T_f44ac_level0_row28\" class=\"row_heading level0 row28\" >28</th>\n",
              "      <td id=\"T_f44ac_row28_col0\" class=\"data row28 col0\" >49</td>\n",
              "      <td id=\"T_f44ac_row28_col1\" class=\"data row28 col1\" >500</td>\n",
              "      <td id=\"T_f44ac_row28_col2\" class=\"data row28 col2\" >2.991504</td>\n",
              "      <td id=\"T_f44ac_row28_col3\" class=\"data row28 col3\" >54.164174</td>\n",
              "    </tr>\n",
              "  </tbody>\n",
              "</table>\n"
            ]
          },
          "metadata": {},
          "execution_count": 137
        }
      ]
    },
    {
      "cell_type": "code",
      "source": [
        "fig, ax = plt.subplots(figsize=(10,5))\n",
        "sns.heatmap(dados.corr(), annot=True)"
      ],
      "metadata": {
        "colab": {
          "base_uri": "https://localhost:8080/",
          "height": 539
        },
        "id": "FGask9c1G5i6",
        "outputId": "5b41847e-82c5-43e2-9905-4cebb0eb93fe"
      },
      "execution_count": 138,
      "outputs": [
        {
          "output_type": "execute_result",
          "data": {
            "text/plain": [
              "<Axes: >"
            ]
          },
          "metadata": {},
          "execution_count": 138
        },
        {
          "output_type": "display_data",
          "data": {
            "text/plain": [
              "<Figure size 1000x500 with 2 Axes>"
            ],
            "image/png": "[encoded data removed]"
          },
          "metadata": {}
        }
      ]
    },
    {
      "cell_type": "code",
      "source": [
        "dados.columns"
      ],
      "metadata": {
        "colab": {
          "base_uri": "https://localhost:8080/"
        },
        "id": "Ct3wJACTHwRS",
        "outputId": "c9e407d2-6dab-4ff3-9c65-36458ab9dd00"
      },
      "execution_count": 139,
      "outputs": [
        {
          "output_type": "execute_result",
          "data": {
            "text/plain": [
              "Index(['rev_util', 'age', 'late_30_59', 'debt_ratio', 'monthly_inc',\n",
              "       'open_credit', 'late_90', 'real_estate', 'late_60_89', 'dependents',\n",
              "       'dlq_2yrs'],\n",
              "      dtype='object')"
            ]
          },
          "metadata": {},
          "execution_count": 139
        }
      ]
    },
    {
      "cell_type": "code",
      "source": [
        "dados_modelagem = dados.copy()\n",
        "dados_modelagem = dados_modelagem[[\n",
        "    'age', 'late_30_59', 'monthly_inc', 'late_90', 'late_60_89', 'dependents', 'dlq_2yrs'\n",
        "]]\n",
        "dados_modelagem.head()"
      ],
      "metadata": {
        "colab": {
          "base_uri": "https://localhost:8080/",
          "height": 206
        },
        "id": "gSFM1TQSHVui",
        "outputId": "b0132875-0ad4-4687-b56b-41a8e153cee3"
      },
      "execution_count": 140,
      "outputs": [
        {
          "output_type": "execute_result",
          "data": {
            "text/plain": [
              "   age  late_30_59  monthly_inc  late_90  late_60_89  dependents  dlq_2yrs\n",
              "0   38         0.0       5440.0      0.0         0.0         3.0         0\n",
              "1   63         0.0       8000.0      0.0         0.0         0.0         0\n",
              "2   57         0.0       5000.0      0.0         0.0         0.0         0\n",
              "3   68         0.0       6250.0      0.0         0.0         0.0         0\n",
              "4   34         1.0       3500.0      0.0         0.0         1.0         0"
            ],
            "text/html": [
              "\n",
              "  <div id=\"df-3a0ae3fa-44a8-4d17-a77a-28a072afe1c6\" class=\"colab-df-container\">\n",
              "    <div>\n",
              "<style scoped>\n",
              "    .dataframe tbody tr th:only-of-type {\n",
              "        vertical-align: middle;\n",
              "    }\n",
              "\n",
              "    .dataframe tbody tr th {\n",
              "        vertical-align: top;\n",
              "    }\n",
              "\n",
              "    .dataframe thead th {\n",
              "        text-align: right;\n",
              "    }\n",
              "</style>\n",
              "<table border=\"1\" class=\"dataframe\">\n",
              "  <thead>\n",
              "    <tr style=\"text-align: right;\">\n",
              "      <th></th>\n",
              "      <th>age</th>\n",
              "      <th>late_30_59</th>\n",
              "      <th>monthly_inc</th>\n",
              "      <th>late_90</th>\n",
              "      <th>late_60_89</th>\n",
              "      <th>dependents</th>\n",
              "      <th>dlq_2yrs</th>\n",
              "    </tr>\n",
              "  </thead>\n",
              "  <tbody>\n",
              "    <tr>\n",
              "      <th>0</th>\n",
              "      <td>38</td>\n",
              "      <td>0.0</td>\n",
              "      <td>5440.0</td>\n",
              "      <td>0.0</td>\n",
              "      <td>0.0</td>\n",
              "      <td>3.0</td>\n",
              "      <td>0</td>\n",
              "    </tr>\n",
              "    <tr>\n",
              "      <th>1</th>\n",
              "      <td>63</td>\n",
              "      <td>0.0</td>\n",
              "      <td>8000.0</td>\n",
              "      <td>0.0</td>\n",
              "      <td>0.0</td>\n",
              "      <td>0.0</td>\n",
              "      <td>0</td>\n",
              "    </tr>\n",
              "    <tr>\n",
              "      <th>2</th>\n",
              "      <td>57</td>\n",
              "      <td>0.0</td>\n",
              "      <td>5000.0</td>\n",
              "      <td>0.0</td>\n",
              "      <td>0.0</td>\n",
              "      <td>0.0</td>\n",
              "      <td>0</td>\n",
              "    </tr>\n",
              "    <tr>\n",
              "      <th>3</th>\n",
              "      <td>68</td>\n",
              "      <td>0.0</td>\n",
              "      <td>6250.0</td>\n",
              "      <td>0.0</td>\n",
              "      <td>0.0</td>\n",
              "      <td>0.0</td>\n",
              "      <td>0</td>\n",
              "    </tr>\n",
              "    <tr>\n",
              "      <th>4</th>\n",
              "      <td>34</td>\n",
              "      <td>1.0</td>\n",
              "      <td>3500.0</td>\n",
              "      <td>0.0</td>\n",
              "      <td>0.0</td>\n",
              "      <td>1.0</td>\n",
              "      <td>0</td>\n",
              "    </tr>\n",
              "  </tbody>\n",
              "</table>\n",
              "</div>\n",
              "    <div class=\"colab-df-buttons\">\n",
              "\n",
              "  <div class=\"colab-df-container\">\n",
              "    <button class=\"colab-df-convert\" onclick=\"convertToInteractive('df-3a0ae3fa-44a8-4d17-a77a-28a072afe1c6')\"\n",
              "            title=\"Convert this dataframe to an interactive table.\"\n",
              "            style=\"display:none;\">\n",
              "\n",
              "  <svg xmlns=\"http://www.w3.org/2000/svg\" height=\"24px\" viewBox=\"0 -960 960 960\">\n",
              "    <path d=\"M120-120v-720h720v720H120Zm60-500h600v-160H180v160Zm220 220h160v-160H400v160Zm0 220h160v-160H400v160ZM180-400h160v-160H180v160Zm440 0h160v-160H620v160ZM180-180h160v-160H180v160Zm440 0h160v-160H620v160Z\"/>\n",
              "  </svg>\n",
              "    </button>\n",
              "\n",
              "  <style>\n",
              "    .colab-df-container {\n",
              "      display:flex;\n",
              "      gap: 12px;\n",
              "    }\n",
              "\n",
              "    .colab-df-convert {\n",
              "      background-color: #E8F0FE;\n",
              "      border: none;\n",
              "      border-radius: 50%;\n",
              "      cursor: pointer;\n",
              "      display: none;\n",
              "      fill: #1967D2;\n",
              "      height: 32px;\n",
              "      padding: 0 0 0 0;\n",
              "      width: 32px;\n",
              "    }\n",
              "\n",
              "    .colab-df-convert:hover {\n",
              "      background-color: #E2EBFA;\n",
              "      box-shadow: 0px 1px 2px rgba(60, 64, 67, 0.3), 0px 1px 3px 1px rgba(60, 64, 67, 0.15);\n",
              "      fill: #174EA6;\n",
              "    }\n",
              "\n",
              "    .colab-df-buttons div {\n",
              "      margin-bottom: 4px;\n",
              "    }\n",
              "\n",
              "    [theme=dark] .colab-df-convert {\n",
              "      background-color: #3B4455;\n",
              "      fill: #D2E3FC;\n",
              "    }\n",
              "\n",
              "    [theme=dark] .colab-df-convert:hover {\n",
              "      background-color: #434B5C;\n",
              "      box-shadow: 0px 1px 3px 1px rgba(0, 0, 0, 0.15);\n",
              "      filter: drop-shadow(0px 1px 2px rgba(0, 0, 0, 0.3));\n",
              "      fill: #FFFFFF;\n",
              "    }\n",
              "  </style>\n",
              "\n",
              "    <script>\n",
              "      const buttonEl =\n",
              "        document.querySelector('#df-3a0ae3fa-44a8-4d17-a77a-28a072afe1c6 button.colab-df-convert');\n",
              "      buttonEl.style.display =\n",
              "        google.colab.kernel.accessAllowed ? 'block' : 'none';\n",
              "\n",
              "      async function convertToInteractive(key) {\n",
              "        const element = document.querySelector('#df-3a0ae3fa-44a8-4d17-a77a-28a072afe1c6');\n",
              "        const dataTable =\n",
              "          await google.colab.kernel.invokeFunction('convertToInteractive',\n",
              "                                                    [key], {});\n",
              "        if (!dataTable) return;\n",
              "\n",
              "        const docLinkHtml = 'Like what you see? Visit the ' +\n",
              "          '<a target=\"_blank\" href=https://colab.research.google.com/notebooks/data_table.ipynb>data table notebook</a>'\n",
              "          + ' to learn more about interactive tables.';\n",
              "        element.innerHTML = '';\n",
              "        dataTable['output_type'] = 'display_data';\n",
              "        await google.colab.output.renderOutput(dataTable, element);\n",
              "        const docLink = document.createElement('div');\n",
              "        docLink.innerHTML = docLinkHtml;\n",
              "        element.appendChild(docLink);\n",
              "      }\n",
              "    </script>\n",
              "  </div>\n",
              "\n",
              "\n",
              "    <div id=\"df-5efe69c0-cd60-4ec1-bb9b-6cc1397389d6\">\n",
              "      <button class=\"colab-df-quickchart\" onclick=\"quickchart('df-5efe69c0-cd60-4ec1-bb9b-6cc1397389d6')\"\n",
              "                title=\"Suggest charts\"\n",
              "                style=\"display:none;\">\n",
              "\n",
              "<svg xmlns=\"http://www.w3.org/2000/svg\" height=\"24px\"viewBox=\"0 0 24 24\"\n",
              "     width=\"24px\">\n",
              "    <g>\n",
              "        <path d=\"M19 3H5c-1.1 0-2 .9-2 2v14c0 1.1.9 2 2 2h14c1.1 0 2-.9 2-2V5c0-1.1-.9-2-2-2zM9 17H7v-7h2v7zm4 0h-2V7h2v10zm4 0h-2v-4h2v4z\"/>\n",
              "    </g>\n",
              "</svg>\n",
              "      </button>\n",
              "\n",
              "<style>\n",
              "  .colab-df-quickchart {\n",
              "      --bg-color: #E8F0FE;\n",
              "      --fill-color: #1967D2;\n",
              "      --hover-bg-color: #E2EBFA;\n",
              "      --hover-fill-color: #174EA6;\n",
              "      --disabled-fill-color: #AAA;\n",
              "      --disabled-bg-color: #DDD;\n",
              "  }\n",
              "\n",
              "  [theme=dark] .colab-df-quickchart {\n",
              "      --bg-color: #3B4455;\n",
              "      --fill-color: #D2E3FC;\n",
              "      --hover-bg-color: #434B5C;\n",
              "      --hover-fill-color: #FFFFFF;\n",
              "      --disabled-bg-color: #3B4455;\n",
              "      --disabled-fill-color: #666;\n",
              "  }\n",
              "\n",
              "  .colab-df-quickchart {\n",
              "    background-color: var(--bg-color);\n",
              "    border: none;\n",
              "    border-radius: 50%;\n",
              "    cursor: pointer;\n",
              "    display: none;\n",
              "    fill: var(--fill-color);\n",
              "    height: 32px;\n",
              "    padding: 0;\n",
              "    width: 32px;\n",
              "  }\n",
              "\n",
              "  .colab-df-quickchart:hover {\n",
              "    background-color: var(--hover-bg-color);\n",
              "    box-shadow: 0 1px 2px rgba(60, 64, 67, 0.3), 0 1px 3px 1px rgba(60, 64, 67, 0.15);\n",
              "    fill: var(--button-hover-fill-color);\n",
              "  }\n",
              "\n",
              "  .colab-df-quickchart-complete:disabled,\n",
              "  .colab-df-quickchart-complete:disabled:hover {\n",
              "    background-color: var(--disabled-bg-color);\n",
              "    fill: var(--disabled-fill-color);\n",
              "    box-shadow: none;\n",
              "  }\n",
              "\n",
              "  .colab-df-spinner {\n",
              "    border: 2px solid var(--fill-color);\n",
              "    border-color: transparent;\n",
              "    border-bottom-color: var(--fill-color);\n",
              "    animation:\n",
              "      spin 1s steps(1) infinite;\n",
              "  }\n",
              "\n",
              "  @keyframes spin {\n",
              "    0% {\n",
              "      border-color: transparent;\n",
              "      border-bottom-color: var(--fill-color);\n",
              "      border-left-color: var(--fill-color);\n",
              "    }\n",
              "    20% {\n",
              "      border-color: transparent;\n",
              "      border-left-color: var(--fill-color);\n",
              "      border-top-color: var(--fill-color);\n",
              "    }\n",
              "    30% {\n",
              "      border-color: transparent;\n",
              "      border-left-color: var(--fill-color);\n",
              "      border-top-color: var(--fill-color);\n",
              "      border-right-color: var(--fill-color);\n",
              "    }\n",
              "    40% {\n",
              "      border-color: transparent;\n",
              "      border-right-color: var(--fill-color);\n",
              "      border-top-color: var(--fill-color);\n",
              "    }\n",
              "    60% {\n",
              "      border-color: transparent;\n",
              "      border-right-color: var(--fill-color);\n",
              "    }\n",
              "    80% {\n",
              "      border-color: transparent;\n",
              "      border-right-color: var(--fill-color);\n",
              "      border-bottom-color: var(--fill-color);\n",
              "    }\n",
              "    90% {\n",
              "      border-color: transparent;\n",
              "      border-bottom-color: var(--fill-color);\n",
              "    }\n",
              "  }\n",
              "</style>\n",
              "\n",
              "      <script>\n",
              "        async function quickchart(key) {\n",
              "          const quickchartButtonEl =\n",
              "            document.querySelector('#' + key + ' button');\n",
              "          quickchartButtonEl.disabled = true;  // To prevent multiple clicks.\n",
              "          quickchartButtonEl.classList.add('colab-df-spinner');\n",
              "          try {\n",
              "            const charts = await google.colab.kernel.invokeFunction(\n",
              "                'suggestCharts', [key], {});\n",
              "          } catch (error) {\n",
              "            console.error('Error during call to suggestCharts:', error);\n",
              "          }\n",
              "          quickchartButtonEl.classList.remove('colab-df-spinner');\n",
              "          quickchartButtonEl.classList.add('colab-df-quickchart-complete');\n",
              "        }\n",
              "        (() => {\n",
              "          let quickchartButtonEl =\n",
              "            document.querySelector('#df-5efe69c0-cd60-4ec1-bb9b-6cc1397389d6 button');\n",
              "          quickchartButtonEl.style.display =\n",
              "            google.colab.kernel.accessAllowed ? 'block' : 'none';\n",
              "        })();\n",
              "      </script>\n",
              "    </div>\n",
              "\n",
              "    </div>\n",
              "  </div>\n"
            ],
            "application/vnd.google.colaboratory.intrinsic+json": {
              "type": "dataframe",
              "variable_name": "dados_modelagem",
              "summary": "{\n  \"name\": \"dados_modelagem\",\n  \"rows\": 16714,\n  \"fields\": [\n    {\n      \"column\": \"age\",\n      \"properties\": {\n        \"dtype\": \"number\",\n        \"std\": 13,\n        \"min\": 21,\n        \"max\": 101,\n        \"num_unique_values\": 78,\n        \"samples\": [\n          54,\n          38,\n          44\n        ],\n        \"semantic_type\": \"\",\n        \"description\": \"\"\n      }\n    },\n    {\n      \"column\": \"late_30_59\",\n      \"properties\": {\n        \"dtype\": \"number\",\n        \"std\": 7.1728902617080195,\n        \"min\": 0.0,\n        \"max\": 98.0,\n        \"num_unique_values\": 16,\n        \"samples\": [\n          0.0,\n          1.0,\n          4.0\n        ],\n        \"semantic_type\": \"\",\n        \"description\": \"\"\n      }\n    },\n    {\n      \"column\": \"monthly_inc\",\n      \"properties\": {\n        \"dtype\": \"number\",\n        \"std\": 5931.841778846162,\n        \"min\": 0.0,\n        \"max\": 250000.0,\n        \"num_unique_values\": 5150,\n        \"samples\": [\n          9083.0,\n          2188.0,\n          5365.0\n        ],\n        \"semantic_type\": \"\",\n        \"description\": \"\"\n      }\n    },\n    {\n      \"column\": \"late_90\",\n      \"properties\": {\n        \"dtype\": \"number\",\n        \"std\": 7.167575884359679,\n        \"min\": 0.0,\n        \"max\": 98.0,\n        \"num_unique_values\": 18,\n        \"samples\": [\n          0.0,\n          1.0,\n          10.0\n        ],\n        \"semantic_type\": \"\",\n        \"description\": \"\"\n      }\n    },\n    {\n      \"column\": \"late_60_89\",\n      \"properties\": {\n        \"dtype\": \"number\",\n        \"std\": 7.138736504967538,\n        \"min\": 0.0,\n        \"max\": 98.0,\n        \"num_unique_values\": 12,\n        \"samples\": [\n          8.0,\n          11.0,\n          0.0\n        ],\n        \"semantic_type\": \"\",\n        \"description\": \"\"\n      }\n    },\n    {\n      \"column\": \"dependents\",\n      \"properties\": {\n        \"dtype\": \"number\",\n        \"std\": 1.1987910742015635,\n        \"min\": 0.0,\n        \"max\": 8.0,\n        \"num_unique_values\": 9,\n        \"samples\": [\n          6.0,\n          0.0,\n          5.0\n        ],\n        \"semantic_type\": \"\",\n        \"description\": \"\"\n      }\n    },\n    {\n      \"column\": \"dlq_2yrs\",\n      \"properties\": {\n        \"dtype\": \"number\",\n        \"std\": 0,\n        \"min\": 0,\n        \"max\": 1,\n        \"num_unique_values\": 2,\n        \"samples\": [\n          1,\n          0\n        ],\n        \"semantic_type\": \"\",\n        \"description\": \"\"\n      }\n    }\n  ]\n}"
            }
          },
          "metadata": {},
          "execution_count": 140
        }
      ]
    },
    {
      "cell_type": "code",
      "source": [
        "dados_modelagem.shape"
      ],
      "metadata": {
        "colab": {
          "base_uri": "https://localhost:8080/"
        },
        "id": "jecmr1zEH1tK",
        "outputId": "3883287d-6fea-4369-bd7c-ef231bae9dfa"
      },
      "execution_count": 141,
      "outputs": [
        {
          "output_type": "execute_result",
          "data": {
            "text/plain": [
              "(16714, 7)"
            ]
          },
          "metadata": {},
          "execution_count": 141
        }
      ]
    },
    {
      "cell_type": "code",
      "source": [
        "# Exlusão de outliers:\n",
        "dados_modelagem = dados_modelagem.query('age <= 92 and late_30_59 <= 80 and monthly_inc <= 150000 and late_90 < 30')\n",
        "dados_modelagem.shape"
      ],
      "metadata": {
        "colab": {
          "base_uri": "https://localhost:8080/"
        },
        "id": "E7HuV1LxNELI",
        "outputId": "039b50d8-da54-4b7a-b831-275386cc06e0"
      },
      "execution_count": 142,
      "outputs": [
        {
          "output_type": "execute_result",
          "data": {
            "text/plain": [
              "(16612, 7)"
            ]
          },
          "metadata": {},
          "execution_count": 142
        }
      ]
    },
    {
      "cell_type": "code",
      "source": [
        "features = dados_modelagem.drop('dlq_2yrs', axis=1)\n",
        "target = dados_modelagem[['dlq_2yrs']]\n",
        "\n",
        "# Divisão treino teste:\n",
        "x_treino, x_teste, y_treino, y_teste = train_test_split(\n",
        "    features, target, test_size=0.3, random_state=42\n",
        ")\n",
        "\n",
        "print(x_treino.shape)\n",
        "print(y_treino.shape)\n",
        "print(x_teste.shape)\n",
        "print(y_teste.shape)"
      ],
      "metadata": {
        "colab": {
          "base_uri": "https://localhost:8080/"
        },
        "id": "snLXarPaH5RR",
        "outputId": "9aaff809-665b-431a-8036-5622359f8c95"
      },
      "execution_count": 143,
      "outputs": [
        {
          "output_type": "stream",
          "name": "stdout",
          "text": [
            "(11628, 6)\n",
            "(11628, 1)\n",
            "(4984, 6)\n",
            "(4984, 1)\n"
          ]
        }
      ]
    },
    {
      "cell_type": "code",
      "source": [
        "scaler = StandardScaler()\n",
        "\n",
        "# Normalização treino:\n",
        "x_treino['age'] = scaler.fit_transform(x_treino[['age']])\n",
        "x_treino['late_30_59'] = scaler.fit_transform(x_treino[['late_30_59']])\n",
        "x_treino['late_60_89'] = scaler.fit_transform(x_treino[['late_60_89']])\n",
        "x_treino['monthly_inc'] = scaler.fit_transform(x_treino[['monthly_inc']])\n",
        "x_treino['late_90'] = scaler.fit_transform(x_treino[['late_90']])\n",
        "x_treino['dependents'] = scaler.fit_transform(x_treino[['dependents']])\n",
        "\n",
        "# Normalização teste:\n",
        "x_teste['age'] = scaler.fit_transform(x_teste[['age']])\n",
        "x_teste['late_30_59'] = scaler.fit_transform(x_teste[['late_30_59']])\n",
        "x_teste['late_60_89'] = scaler.fit_transform(x_teste[['late_60_89']])\n",
        "x_teste['monthly_inc'] = scaler.fit_transform(x_teste[['monthly_inc']])\n",
        "x_teste['late_90'] = scaler.fit_transform(x_teste[['late_90']])\n",
        "x_teste['dependents'] = scaler.fit_transform(x_teste[['dependents']])"
      ],
      "metadata": {
        "id": "PPqKOL1OIhtS"
      },
      "execution_count": 144,
      "outputs": []
    },
    {
      "cell_type": "markdown",
      "source": [
        "```python\n",
        "from sklearn.neighbors import KNeighborsClassifier\n",
        "\n",
        "# Dados fictícios\n",
        "X, y = ..., ...\n",
        "\n",
        "# Treinamento do modelo\n",
        "model = KNeighborsClassifier(n_neighbors=5)\n",
        "model.fit(X, y)\n",
        "\n",
        "# Predições\n",
        "y_pred = model.predict(X)\n",
        " ```  "
      ],
      "metadata": {
        "id": "vwb2GEhvJtbY"
      }
    },
    {
      "cell_type": "code",
      "source": [
        "# Treinamento do modelo\n",
        "model = KNeighborsClassifier(n_neighbors=4)\n",
        "model.fit(x_treino, y_treino)\n",
        "model.__dict__"
      ],
      "metadata": {
        "colab": {
          "base_uri": "https://localhost:8080/"
        },
        "id": "inaleSh3JlUx",
        "outputId": "6b43477d-c159-4ef3-94c6-d3a0f1b8668e"
      },
      "execution_count": 145,
      "outputs": [
        {
          "output_type": "stream",
          "name": "stderr",
          "text": [
            "/usr/local/lib/python3.11/dist-packages/sklearn/neighbors/_classification.py:239: DataConversionWarning: A column-vector y was passed when a 1d array was expected. Please change the shape of y to (n_samples,), for example using ravel().\n",
            "  return self._fit(X, y)\n"
          ]
        },
        {
          "output_type": "execute_result",
          "data": {
            "text/plain": [
              "{'n_neighbors': 4,\n",
              " 'radius': None,\n",
              " 'algorithm': 'auto',\n",
              " 'leaf_size': 30,\n",
              " 'metric': 'minkowski',\n",
              " 'metric_params': None,\n",
              " 'p': 2,\n",
              " 'n_jobs': None,\n",
              " 'weights': 'uniform',\n",
              " 'feature_names_in_': array(['age', 'late_30_59', 'monthly_inc', 'late_90', 'late_60_89',\n",
              "        'dependents'], dtype=object),\n",
              " 'n_features_in_': 6,\n",
              " 'outputs_2d_': False,\n",
              " 'classes_': array([0, 1]),\n",
              " '_y': array([1, 0, 1, ..., 0, 0, 1]),\n",
              " 'effective_metric_params_': {},\n",
              " 'effective_metric_': 'euclidean',\n",
              " '_fit_method': 'kd_tree',\n",
              " '_fit_X': array([[ 0.22677899,  2.18866031, -0.34067222,  1.73289914,  6.0453305 ,\n",
              "          0.03923383],\n",
              "        [ 0.22677899, -0.53091033, -0.62741956, -0.35606532, -0.33961914,\n",
              "          2.53218969],\n",
              "        [ 1.38135793, -0.53091033, -0.75860876, -0.35606532, -0.33961914,\n",
              "         -0.79175146],\n",
              "        ...,\n",
              "        [ 1.16487438, -0.53091033,  0.89334907, -0.35606532, -0.33961914,\n",
              "         -0.79175146],\n",
              "        [-1.43292823,  0.37561321, -0.79232219, -0.35606532, -0.33961914,\n",
              "          0.03923383],\n",
              "        [-0.42267166, -0.53091033, -0.31300523, -0.35606532, -0.33961914,\n",
              "          0.03923383]]),\n",
              " 'n_samples_fit_': 11628,\n",
              " '_tree': <sklearn.neighbors._kd_tree.KDTree at 0x4fdf3e90>}"
            ]
          },
          "metadata": {},
          "execution_count": 145
        }
      ]
    },
    {
      "cell_type": "code",
      "source": [
        "y_pred_treino = model.predict(x_treino)\n",
        "y_pred_teste = model.predict(x_teste)\n",
        "probabilidades = model.predict_proba(x_teste)[:, 1]\n",
        "\n",
        "print(y_pred_teste[0:15])\n",
        "print(probabilidades[0:15])\n",
        "print(y_teste[0:15])"
      ],
      "metadata": {
        "colab": {
          "base_uri": "https://localhost:8080/"
        },
        "id": "gSmj0S9SKEsJ",
        "outputId": "6f7d2f95-c9a2-4903-e7f7-7226da3ec083"
      },
      "execution_count": 146,
      "outputs": [
        {
          "output_type": "stream",
          "name": "stdout",
          "text": [
            "[0 0 0 1 1 1 0 0 1 1 0 0 1 0 0]\n",
            "[0.   0.   0.25 1.   1.   0.75 0.25 0.5  1.   0.75 0.5  0.5  0.75 0.\n",
            " 0.  ]\n",
            "       dlq_2yrs\n",
            "4774          0\n",
            "13677         1\n",
            "11985         1\n",
            "14169         1\n",
            "11311         1\n",
            "7540          0\n",
            "9324          1\n",
            "14132         1\n",
            "10750         1\n",
            "10039         1\n",
            "3451          0\n",
            "3440          0\n",
            "14711         1\n",
            "2070          0\n",
            "15756         1\n"
          ]
        }
      ]
    },
    {
      "cell_type": "code",
      "source": [
        "# Alterando a probabilidade de corte:\n",
        "probs = model.predict_proba(x_teste)[:, 1]\n",
        "threshold = 0.75\n",
        "ypred_custom = (probs >= threshold).astype(int)\n",
        "\n",
        "# Predições:\n",
        "print('Predições com threshold =', threshold)\n",
        "print(ypred_custom[0:14])\n",
        "print(y_teste[0:14])\n",
        "print('\\nProbabilidades da classe 1')\n",
        "print(np.round(probs[0:14], 2))"
      ],
      "metadata": {
        "colab": {
          "base_uri": "https://localhost:8080/"
        },
        "id": "NxIBQdHsKY15",
        "outputId": "769dc05b-06c1-4964-afd9-a74d4e04a358"
      },
      "execution_count": 147,
      "outputs": [
        {
          "output_type": "stream",
          "name": "stdout",
          "text": [
            "Predições com threshold = 0.75\n",
            "[0 0 0 1 1 1 0 0 1 1 0 0 1 0]\n",
            "       dlq_2yrs\n",
            "4774          0\n",
            "13677         1\n",
            "11985         1\n",
            "14169         1\n",
            "11311         1\n",
            "7540          0\n",
            "9324          1\n",
            "14132         1\n",
            "10750         1\n",
            "10039         1\n",
            "3451          0\n",
            "3440          0\n",
            "14711         1\n",
            "2070          0\n",
            "\n",
            "Probabilidades da classe 1\n",
            "[0.   0.   0.25 1.   1.   0.75 0.25 0.5  1.   0.75 0.5  0.5  0.75 0.  ]\n"
          ]
        }
      ]
    },
    {
      "cell_type": "code",
      "source": [
        "acuracia = accuracy_score(y_teste, y_pred_teste)\n",
        "acuracia"
      ],
      "metadata": {
        "colab": {
          "base_uri": "https://localhost:8080/"
        },
        "id": "oleDG2R3LDjc",
        "outputId": "805a9017-4f98-4a49-d755-a0b03e5c6b9f"
      },
      "execution_count": 148,
      "outputs": [
        {
          "output_type": "execute_result",
          "data": {
            "text/plain": [
              "0.7114767255216693"
            ]
          },
          "metadata": {},
          "execution_count": 148
        }
      ]
    },
    {
      "cell_type": "code",
      "source": [
        "matriz_conf = confusion_matrix(y_teste, y_pred_teste)\n",
        "sns.heatmap(matriz_conf, annot=True, fmt='d')"
      ],
      "metadata": {
        "colab": {
          "base_uri": "https://localhost:8080/",
          "height": 448
        },
        "id": "jytVikDRLNOa",
        "outputId": "b8c3ae44-fd00-4e42-c433-048020093b94"
      },
      "execution_count": 149,
      "outputs": [
        {
          "output_type": "execute_result",
          "data": {
            "text/plain": [
              "<Axes: >"
            ]
          },
          "metadata": {},
          "execution_count": 149
        },
        {
          "output_type": "display_data",
          "data": {
            "text/plain": [
              "<Figure size 640x480 with 2 Axes>"
            ],
            "image/png": "[encoded data removed]"
          },
          "metadata": {}
        }
      ]
    },
    {
      "cell_type": "code",
      "source": [
        "print(classification_report(y_teste, y_pred_teste))"
      ],
      "metadata": {
        "colab": {
          "base_uri": "https://localhost:8080/"
        },
        "id": "x6pAbNwQLhrS",
        "outputId": "0a4bcf7a-a185-424c-b6c1-d1ef66b2c7d6"
      },
      "execution_count": 150,
      "outputs": [
        {
          "output_type": "stream",
          "name": "stdout",
          "text": [
            "              precision    recall  f1-score   support\n",
            "\n",
            "           0       0.68      0.81      0.74      2553\n",
            "           1       0.76      0.60      0.67      2431\n",
            "\n",
            "    accuracy                           0.71      4984\n",
            "   macro avg       0.72      0.71      0.71      4984\n",
            "weighted avg       0.72      0.71      0.71      4984\n",
            "\n"
          ]
        }
      ]
    },
    {
      "cell_type": "code",
      "source": [
        "# Calcular a curva ROC e a AUC\n",
        "fpr, tpr, thresholds = roc_curve(y_teste, y_pred_teste)\n",
        "roc_auc = roc_auc_score(y_teste, y_pred_teste)\n",
        "\n",
        "# Plotar a curva ROC\n",
        "fig, ax = plt.subplots(figsize=(6,4))\n",
        "plt.plot(fpr, tpr, color='maroon', lw=2, label=f'Curva ROC (AUC = {roc_auc:.2f})')\n",
        "plt.plot([0, 1], [0, 1], color='black', lw=2, linestyle='--')\n",
        "plt.xlim([0.0, 1.0])\n",
        "plt.ylim([0.0, 1.05])\n",
        "plt.xlabel('Taxa de Falsos Positivos')\n",
        "plt.ylabel('Taxa de Verdadeiros Positivos')\n",
        "plt.title('Curva ROC')\n",
        "plt.legend(loc='lower right')\n",
        "plt.show()"
      ],
      "metadata": {
        "colab": {
          "base_uri": "https://localhost:8080/",
          "height": 410
        },
        "id": "EkLWxTAvLwzo",
        "outputId": "94f31dcd-c1d9-4add-dc41-1b44d8cedbf4"
      },
      "execution_count": 151,
      "outputs": [
        {
          "output_type": "display_data",
          "data": {
            "text/plain": [
              "<Figure size 600x400 with 1 Axes>"
            ],
            "image/png": "[encoded data removed]"
          },
          "metadata": {}
        }
      ]
    },
    {
      "cell_type": "code",
      "source": [
        "sns.boxplot(data=dados_modelagem, y='dlq_2yrs', width=0.2)"
      ],
      "metadata": {
        "colab": {
          "base_uri": "https://localhost:8080/",
          "height": 429
        },
        "id": "D0ORvq_fL_dg",
        "outputId": "9ea93689-cded-4027-f37a-197e6d41839b"
      },
      "execution_count": 152,
      "outputs": [
        {
          "output_type": "execute_result",
          "data": {
            "text/plain": [
              "<Axes: ylabel='dlq_2yrs'>"
            ]
          },
          "metadata": {},
          "execution_count": 152
        },
        {
          "output_type": "display_data",
          "data": {
            "text/plain": [
              "<Figure size 640x480 with 1 Axes>"
            ],
            "image/png": "[encoded data removed]"
          },
          "metadata": {}
        }
      ]
    },
    {
      "cell_type": "code",
      "source": [
        "modelo_reglog = LogisticRegression()\n",
        "modelo_reglog.fit(x_treino, y_treino)\n",
        "modelo_reglog.__dict__"
      ],
      "metadata": {
        "colab": {
          "base_uri": "https://localhost:8080/"
        },
        "id": "XMrXBP-SNj-w",
        "outputId": "dd22db9e-36cc-434f-a2e0-79a5740e7eb0"
      },
      "execution_count": 154,
      "outputs": [
        {
          "output_type": "stream",
          "name": "stderr",
          "text": [
            "/usr/local/lib/python3.11/dist-packages/sklearn/utils/validation.py:1408: DataConversionWarning: A column-vector y was passed when a 1d array was expected. Please change the shape of y to (n_samples, ), for example using ravel().\n",
            "  y = column_or_1d(y, warn=True)\n"
          ]
        },
        {
          "output_type": "execute_result",
          "data": {
            "text/plain": [
              "{'penalty': 'l2',\n",
              " 'dual': False,\n",
              " 'tol': 0.0001,\n",
              " 'C': 1.0,\n",
              " 'fit_intercept': True,\n",
              " 'intercept_scaling': 1,\n",
              " 'class_weight': None,\n",
              " 'random_state': None,\n",
              " 'solver': 'lbfgs',\n",
              " 'max_iter': 100,\n",
              " 'multi_class': 'deprecated',\n",
              " 'verbose': 0,\n",
              " 'warm_start': False,\n",
              " 'n_jobs': None,\n",
              " 'l1_ratio': None,\n",
              " 'feature_names_in_': array(['age', 'late_30_59', 'monthly_inc', 'late_90', 'late_60_89',\n",
              "        'dependents'], dtype=object),\n",
              " 'n_features_in_': 6,\n",
              " 'classes_': array([0, 1]),\n",
              " 'n_iter_': array([10], dtype=int32),\n",
              " 'coef_': array([[-0.35756223,  0.82534867, -0.10532641,  1.21908974,  0.7201354 ,\n",
              "          0.06392037]]),\n",
              " 'intercept_': array([0.38769193])}"
            ]
          },
          "metadata": {},
          "execution_count": 154
        }
      ]
    },
    {
      "cell_type": "markdown",
      "source": [
        "\\begin{equation}\n",
        " risco\\  credito = 0.38  -0.35 \\times age + 0.83 \\times late\\_30\\_59 -0.11 \\times monthly\\_inc + 1.22 \\times late\\_90 + 0.72 \\times late\\_60\\_89 +\n",
        "          0.06 \\times dependents\n",
        "\\end{equation}"
      ],
      "metadata": {
        "id": "oIbtWJz8Nxy3"
      }
    },
    {
      "cell_type": "code",
      "source": [
        "np.exp(1*0.06)"
      ],
      "metadata": {
        "colab": {
          "base_uri": "https://localhost:8080/"
        },
        "id": "YrqOQnQsOeLP",
        "outputId": "56236a71-4711-4a24-9f35-d9d26e0188e3"
      },
      "execution_count": 155,
      "outputs": [
        {
          "output_type": "execute_result",
          "data": {
            "text/plain": [
              "np.float64(1.0618365465453596)"
            ]
          },
          "metadata": {},
          "execution_count": 155
        }
      ]
    },
    {
      "cell_type": "code",
      "source": [
        "np.exp(-100*0.11)"
      ],
      "metadata": {
        "colab": {
          "base_uri": "https://localhost:8080/"
        },
        "id": "Gh3JREZ7OoH3",
        "outputId": "e7320fda-f89f-413e-f1ad-ac6da2997393"
      },
      "execution_count": 159,
      "outputs": [
        {
          "output_type": "execute_result",
          "data": {
            "text/plain": [
              "np.float64(1.670170079024566e-05)"
            ]
          },
          "metadata": {},
          "execution_count": 159
        }
      ]
    },
    {
      "cell_type": "code",
      "source": [
        "y_pred_teste_log = modelo_reglog.predict(x_teste)\n",
        "\n",
        "# Calcular a curva ROC e a AUC\n",
        "\n",
        "\n",
        "fpr, tpr, thresholds = roc_curve(y_teste, y_pred_teste_log)\n",
        "roc_auc = roc_auc_score(y_teste, y_pred_teste_log)\n",
        "\n",
        "# Plotar a curva ROC\n",
        "fig, ax = plt.subplots(figsize=(6,4))\n",
        "plt.plot(fpr, tpr, color='maroon', lw=2, label=f'Curva ROC (AUC = {roc_auc:.2f})')\n",
        "plt.plot([0, 1], [0, 1], color='black', lw=2, linestyle='--')\n",
        "plt.xlim([0.0, 1.0])\n",
        "plt.ylim([0.0, 1.05])\n",
        "plt.xlabel('Taxa de Falsos Positivos')\n",
        "plt.ylabel('Taxa de Verdadeiros Positivos')\n",
        "plt.title('Curva ROC')\n",
        "plt.legend(loc='lower right')\n",
        "plt.show()"
      ],
      "metadata": {
        "colab": {
          "base_uri": "https://localhost:8080/",
          "height": 410
        },
        "id": "-d8OA-QkPDff",
        "outputId": "018aaec3-535f-4612-bd1d-dda57fa493be"
      },
      "execution_count": 160,
      "outputs": [
        {
          "output_type": "display_data",
          "data": {
            "text/plain": [
              "<Figure size 600x400 with 1 Axes>"
            ],
            "image/png": "[encoded data removed]"
          },
          "metadata": {}
        }
      ]
    },
    {
      "cell_type": "code",
      "source": [
        "print(classification_report(y_teste, y_pred_teste_log))"
      ],
      "metadata": {
        "colab": {
          "base_uri": "https://localhost:8080/"
        },
        "id": "FQttBeZ8PYH5",
        "outputId": "364e6a1e-8385-4900-a913-c933c29f5852"
      },
      "execution_count": 161,
      "outputs": [
        {
          "output_type": "stream",
          "name": "stdout",
          "text": [
            "              precision    recall  f1-score   support\n",
            "\n",
            "           0       0.71      0.87      0.78      2553\n",
            "           1       0.82      0.62      0.71      2431\n",
            "\n",
            "    accuracy                           0.75      4984\n",
            "   macro avg       0.76      0.74      0.74      4984\n",
            "weighted avg       0.76      0.75      0.74      4984\n",
            "\n"
          ]
        }
      ]
    },
    {
      "cell_type": "code",
      "source": [
        "confusion_matrix(y_teste, y_pred_teste_log)"
      ],
      "metadata": {
        "colab": {
          "base_uri": "https://localhost:8080/"
        },
        "id": "qV176nHLPg2v",
        "outputId": "02e238c2-c156-41dc-8b02-42dc02bf6af5"
      },
      "execution_count": 162,
      "outputs": [
        {
          "output_type": "execute_result",
          "data": {
            "text/plain": [
              "array([[2214,  339],\n",
              "       [ 920, 1511]])"
            ]
          },
          "metadata": {},
          "execution_count": 162
        }
      ]
    }
  ]
}
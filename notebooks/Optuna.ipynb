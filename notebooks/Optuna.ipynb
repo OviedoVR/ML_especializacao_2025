{
  "nbformat": 4,
  "nbformat_minor": 0,
  "metadata": {
    "colab": {
      "provenance": []
    },
    "kernelspec": {
      "name": "python3",
      "display_name": "Python 3"
    },
    "language_info": {
      "name": "python"
    }
  },
  "cells": [
    {
      "cell_type": "code",
      "source": [
        "! pip install optuna"
      ],
      "metadata": {
        "colab": {
          "base_uri": "https://localhost:8080/"
        },
        "id": "AFLBb31VRTq4",
        "outputId": "523dd7cc-db78-4d1b-854e-661cb48e156f"
      },
      "execution_count": 2,
      "outputs": [
        {
          "output_type": "stream",
          "name": "stdout",
          "text": [
            "Collecting optuna\n",
            "  Downloading optuna-4.4.0-py3-none-any.whl.metadata (17 kB)\n",
            "Collecting alembic>=1.5.0 (from optuna)\n",
            "  Downloading alembic-1.16.4-py3-none-any.whl.metadata (7.3 kB)\n",
            "Collecting colorlog (from optuna)\n",
            "  Downloading colorlog-6.9.0-py3-none-any.whl.metadata (10 kB)\n",
            "Requirement already satisfied: numpy in /usr/local/lib/python3.11/dist-packages (from optuna) (2.0.2)\n",
            "Requirement already satisfied: packaging>=20.0 in /usr/local/lib/python3.11/dist-packages (from optuna) (25.0)\n",
            "Requirement already satisfied: sqlalchemy>=1.4.2 in /usr/local/lib/python3.11/dist-packages (from optuna) (2.0.41)\n",
            "Requirement already satisfied: tqdm in /usr/local/lib/python3.11/dist-packages (from optuna) (4.67.1)\n",
            "Requirement already satisfied: PyYAML in /usr/local/lib/python3.11/dist-packages (from optuna) (6.0.2)\n",
            "Requirement already satisfied: Mako in /usr/lib/python3/dist-packages (from alembic>=1.5.0->optuna) (1.1.3)\n",
            "Requirement already satisfied: typing-extensions>=4.12 in /usr/local/lib/python3.11/dist-packages (from alembic>=1.5.0->optuna) (4.14.1)\n",
            "Requirement already satisfied: greenlet>=1 in /usr/local/lib/python3.11/dist-packages (from sqlalchemy>=1.4.2->optuna) (3.2.3)\n",
            "Downloading optuna-4.4.0-py3-none-any.whl (395 kB)\n",
            "\u001b[2K   \u001b[90m━━━━━━━━━━━━━━━━━━━━━━━━━━━━━━━━━━━━━━━━\u001b[0m \u001b[32m395.9/395.9 kB\u001b[0m \u001b[31m7.4 MB/s\u001b[0m eta \u001b[36m0:00:00\u001b[0m\n",
            "\u001b[?25hDownloading alembic-1.16.4-py3-none-any.whl (247 kB)\n",
            "\u001b[2K   \u001b[90m━━━━━━━━━━━━━━━━━━━━━━━━━━━━━━━━━━━━━━━━\u001b[0m \u001b[32m247.0/247.0 kB\u001b[0m \u001b[31m10.5 MB/s\u001b[0m eta \u001b[36m0:00:00\u001b[0m\n",
            "\u001b[?25hDownloading colorlog-6.9.0-py3-none-any.whl (11 kB)\n",
            "Installing collected packages: colorlog, alembic, optuna\n",
            "Successfully installed alembic-1.16.4 colorlog-6.9.0 optuna-4.4.0\n"
          ]
        }
      ]
    },
    {
      "cell_type": "code",
      "execution_count": 3,
      "metadata": {
        "colab": {
          "base_uri": "https://localhost:8080/"
        },
        "id": "88EAwkPOROLW",
        "outputId": "9bbe67cf-a088-43a7-8bbd-34e63509ccb1"
      },
      "outputs": [
        {
          "output_type": "stream",
          "name": "stderr",
          "text": [
            "[I 2025-08-02 18:22:34,401] A new study created in memory with name: no-name-79aceacc-7406-41a2-b16b-5b508ea18714\n",
            "[I 2025-08-02 18:22:34,448] Trial 0 finished with value: 0.5305677824766757 and parameters: {'fit_intercept': True}. Best is trial 0 with value: 0.5305677824766757.\n",
            "[I 2025-08-02 18:22:34,469] Trial 1 finished with value: 0.604878579654339 and parameters: {'fit_intercept': False}. Best is trial 0 with value: 0.5305677824766757.\n",
            "[I 2025-08-02 18:22:34,494] Trial 2 finished with value: 0.604878579654339 and parameters: {'fit_intercept': False}. Best is trial 0 with value: 0.5305677824766757.\n",
            "[I 2025-08-02 18:22:34,504] Trial 3 finished with value: 0.5305677824766757 and parameters: {'fit_intercept': True}. Best is trial 0 with value: 0.5305677824766757.\n",
            "[I 2025-08-02 18:22:34,534] Trial 4 finished with value: 0.604878579654339 and parameters: {'fit_intercept': False}. Best is trial 0 with value: 0.5305677824766757.\n",
            "[I 2025-08-02 18:22:34,549] Trial 5 finished with value: 0.5305677824766757 and parameters: {'fit_intercept': True}. Best is trial 0 with value: 0.5305677824766757.\n",
            "[I 2025-08-02 18:22:34,558] Trial 6 finished with value: 0.5305677824766757 and parameters: {'fit_intercept': True}. Best is trial 0 with value: 0.5305677824766757.\n",
            "[I 2025-08-02 18:22:34,577] Trial 7 finished with value: 0.604878579654339 and parameters: {'fit_intercept': False}. Best is trial 0 with value: 0.5305677824766757.\n",
            "[I 2025-08-02 18:22:34,585] Trial 8 finished with value: 0.604878579654339 and parameters: {'fit_intercept': False}. Best is trial 0 with value: 0.5305677824766757.\n",
            "[I 2025-08-02 18:22:34,601] Trial 9 finished with value: 0.5305677824766757 and parameters: {'fit_intercept': True}. Best is trial 0 with value: 0.5305677824766757.\n",
            "[I 2025-08-02 18:22:34,625] Trial 10 finished with value: 0.5305677824766757 and parameters: {'fit_intercept': True}. Best is trial 0 with value: 0.5305677824766757.\n",
            "[I 2025-08-02 18:22:34,642] Trial 11 finished with value: 0.5305677824766757 and parameters: {'fit_intercept': True}. Best is trial 0 with value: 0.5305677824766757.\n",
            "[I 2025-08-02 18:22:34,653] Trial 12 finished with value: 0.5305677824766757 and parameters: {'fit_intercept': True}. Best is trial 0 with value: 0.5305677824766757.\n",
            "[I 2025-08-02 18:22:34,691] Trial 13 finished with value: 0.5305677824766757 and parameters: {'fit_intercept': True}. Best is trial 0 with value: 0.5305677824766757.\n",
            "[I 2025-08-02 18:22:34,712] Trial 14 finished with value: 0.5305677824766757 and parameters: {'fit_intercept': True}. Best is trial 0 with value: 0.5305677824766757.\n",
            "[I 2025-08-02 18:22:34,722] Trial 15 finished with value: 0.5305677824766757 and parameters: {'fit_intercept': True}. Best is trial 0 with value: 0.5305677824766757.\n",
            "[I 2025-08-02 18:22:34,752] Trial 16 finished with value: 0.5305677824766757 and parameters: {'fit_intercept': True}. Best is trial 0 with value: 0.5305677824766757.\n",
            "[I 2025-08-02 18:22:34,763] Trial 17 finished with value: 0.5305677824766757 and parameters: {'fit_intercept': True}. Best is trial 0 with value: 0.5305677824766757.\n",
            "[I 2025-08-02 18:22:34,789] Trial 18 finished with value: 0.5305677824766757 and parameters: {'fit_intercept': True}. Best is trial 0 with value: 0.5305677824766757.\n",
            "[I 2025-08-02 18:22:34,799] Trial 19 finished with value: 0.5305677824766757 and parameters: {'fit_intercept': True}. Best is trial 0 with value: 0.5305677824766757.\n"
          ]
        },
        {
          "output_type": "stream",
          "name": "stdout",
          "text": [
            "Melhor configuração: {'fit_intercept': True}\n",
            "Melhor MSE: 0.5305677824766757\n"
          ]
        }
      ],
      "source": [
        "import optuna\n",
        "from sklearn.linear_model import LinearRegression\n",
        "from sklearn.datasets import fetch_california_housing\n",
        "from sklearn.model_selection import train_test_split\n",
        "from sklearn.metrics import mean_squared_error\n",
        "\n",
        "# Carregar dados do California Housing\n",
        "X, y = fetch_california_housing(return_X_y=True)\n",
        "\n",
        "# Dividir em treino e validação\n",
        "X_train, X_val, y_train, y_val = train_test_split(\n",
        "    X, y, test_size=0.3, random_state=42)\n",
        "\n",
        "def objective(trial):\n",
        "    # Hiperparâmetro exemplo: fit_intercept (único relevante na regressão linear pura)\n",
        "    fit_intercept = trial.suggest_categorical('fit_intercept', [True, False])\n",
        "    model = LinearRegression(fit_intercept=fit_intercept)\n",
        "    model.fit(X_train, y_train)\n",
        "    preds = model.predict(X_val)\n",
        "    mse = mean_squared_error(y_val, preds)\n",
        "    return mse\n",
        "\n",
        "study = optuna.create_study(direction='minimize')\n",
        "study.optimize(objective, n_trials=20)\n",
        "\n",
        "print(\"Melhor configuração:\", study.best_params)\n",
        "print(\"Melhor MSE:\", study.best_value)"
      ]
    },
    {
      "cell_type": "code",
      "source": [
        "import optuna\n",
        "from sklearn.datasets import fetch_california_housing\n",
        "from sklearn.neighbors import KNeighborsRegressor\n",
        "from sklearn.model_selection import train_test_split\n",
        "from sklearn.metrics import mean_squared_error\n",
        "\n",
        "# Carregar dados\n",
        "X, y = fetch_california_housing(return_X_y=True)\n",
        "\n",
        "# Divisão treino/validação\n",
        "X_train, X_val, y_train, y_val = train_test_split(\n",
        "    X, y, test_size=0.3, random_state=42)\n",
        "\n",
        "def objective(trial):\n",
        "    # Definir hiperparâmetros a serem otimizados\n",
        "    n_neighbors = trial.suggest_int(\"n_neighbors\", 1, 30)\n",
        "    weights = trial.suggest_categorical(\"weights\", [\"uniform\", \"distance\"])\n",
        "    p = trial.suggest_int(\"p\", 1, 3)\n",
        "\n",
        "    # Criar modelo KNN\n",
        "    model = KNeighborsRegressor(\n",
        "        n_neighbors=n_neighbors,\n",
        "        weights=weights,\n",
        "        p=p\n",
        "    )\n",
        "\n",
        "    # Treinar e validar\n",
        "    model.fit(X_train, y_train)\n",
        "    preds = model.predict(X_val)\n",
        "    mse = mean_squared_error(y_val, preds)\n",
        "    return mse  # Minimizar erro quadrático médio\n",
        "\n",
        "# Criar estudo e otimizar\n",
        "study = optuna.create_study(direction=\"minimize\")\n",
        "study.optimize(objective, n_trials=50)\n",
        "\n",
        "print(\"Melhores hiperparâmetros:\", study.best_params)\n",
        "print(\"Melhor MSE:\", study.best_value)"
      ],
      "metadata": {
        "colab": {
          "base_uri": "https://localhost:8080/"
        },
        "id": "lYNF0ShDR_qf",
        "outputId": "afb5bfbe-4a84-419b-b81e-37702e148631"
      },
      "execution_count": 6,
      "outputs": [
        {
          "output_type": "stream",
          "name": "stderr",
          "text": [
            "[I 2025-08-02 18:24:59,000] A new study created in memory with name: no-name-02ec44da-0130-4ce9-be6e-56c92716072a\n",
            "[I 2025-08-02 18:24:59,050] Trial 0 finished with value: 1.2750616141570847 and parameters: {'n_neighbors': 2, 'weights': 'distance', 'p': 2}. Best is trial 0 with value: 1.2750616141570847.\n",
            "[I 2025-08-02 18:24:59,138] Trial 1 finished with value: 1.1479127563890883 and parameters: {'n_neighbors': 29, 'weights': 'distance', 'p': 2}. Best is trial 1 with value: 1.1479127563890883.\n",
            "[I 2025-08-02 18:24:59,207] Trial 2 finished with value: 0.9980707800621474 and parameters: {'n_neighbors': 9, 'weights': 'uniform', 'p': 1}. Best is trial 2 with value: 0.9980707800621474.\n",
            "[I 2025-08-02 18:24:59,398] Trial 3 finished with value: 1.1788897269548972 and parameters: {'n_neighbors': 5, 'weights': 'uniform', 'p': 3}. Best is trial 2 with value: 0.9980707800621474.\n",
            "[I 2025-08-02 18:24:59,654] Trial 4 finished with value: 1.1443594337009955 and parameters: {'n_neighbors': 16, 'weights': 'distance', 'p': 3}. Best is trial 2 with value: 0.9980707800621474.\n",
            "[I 2025-08-02 18:24:59,716] Trial 5 finished with value: 0.9923590762806007 and parameters: {'n_neighbors': 5, 'weights': 'distance', 'p': 1}. Best is trial 5 with value: 0.9923590762806007.\n",
            "[I 2025-08-02 18:24:59,974] Trial 6 finished with value: 1.2074065160232583 and parameters: {'n_neighbors': 22, 'weights': 'uniform', 'p': 3}. Best is trial 5 with value: 0.9923590762806007.\n",
            "[I 2025-08-02 18:25:00,069] Trial 7 finished with value: 1.0496036734118397 and parameters: {'n_neighbors': 25, 'weights': 'uniform', 'p': 1}. Best is trial 5 with value: 0.9923590762806007.\n",
            "[I 2025-08-02 18:25:00,147] Trial 8 finished with value: 1.131408248338343 and parameters: {'n_neighbors': 24, 'weights': 'distance', 'p': 2}. Best is trial 5 with value: 0.9923590762806007.\n",
            "[I 2025-08-02 18:25:00,198] Trial 9 finished with value: 1.1350107146275368 and parameters: {'n_neighbors': 6, 'weights': 'uniform', 'p': 2}. Best is trial 5 with value: 0.9923590762806007.\n",
            "[I 2025-08-02 18:25:00,296] Trial 10 finished with value: 0.9750319063685239 and parameters: {'n_neighbors': 13, 'weights': 'distance', 'p': 1}. Best is trial 10 with value: 0.9750319063685239.\n",
            "[I 2025-08-02 18:25:00,388] Trial 11 finished with value: 0.9758174349567724 and parameters: {'n_neighbors': 14, 'weights': 'distance', 'p': 1}. Best is trial 10 with value: 0.9750319063685239.\n",
            "[I 2025-08-02 18:25:00,476] Trial 12 finished with value: 0.9758174349567724 and parameters: {'n_neighbors': 14, 'weights': 'distance', 'p': 1}. Best is trial 10 with value: 0.9750319063685239.\n",
            "[I 2025-08-02 18:25:00,575] Trial 13 finished with value: 0.9750319063685239 and parameters: {'n_neighbors': 13, 'weights': 'distance', 'p': 1}. Best is trial 10 with value: 0.9750319063685239.\n",
            "[I 2025-08-02 18:25:00,683] Trial 14 finished with value: 0.9900284131378717 and parameters: {'n_neighbors': 18, 'weights': 'distance', 'p': 1}. Best is trial 10 with value: 0.9750319063685239.\n",
            "[I 2025-08-02 18:25:00,750] Trial 15 finished with value: 1.0905940217733872 and parameters: {'n_neighbors': 11, 'weights': 'distance', 'p': 2}. Best is trial 10 with value: 0.9750319063685239.\n",
            "[I 2025-08-02 18:25:00,843] Trial 16 finished with value: 0.9900284131378717 and parameters: {'n_neighbors': 18, 'weights': 'distance', 'p': 1}. Best is trial 10 with value: 0.9750319063685239.\n",
            "[I 2025-08-02 18:25:00,925] Trial 17 finished with value: 0.968436213570098 and parameters: {'n_neighbors': 11, 'weights': 'distance', 'p': 1}. Best is trial 17 with value: 0.968436213570098.\n",
            "[I 2025-08-02 18:25:01,006] Trial 18 finished with value: 0.9672981588573515 and parameters: {'n_neighbors': 9, 'weights': 'distance', 'p': 1}. Best is trial 18 with value: 0.9672981588573515.\n",
            "[I 2025-08-02 18:25:01,074] Trial 19 finished with value: 1.0899221335981746 and parameters: {'n_neighbors': 8, 'weights': 'distance', 'p': 2}. Best is trial 18 with value: 0.9672981588573515.\n",
            "[I 2025-08-02 18:25:01,126] Trial 20 finished with value: 1.6254887541530036 and parameters: {'n_neighbors': 1, 'weights': 'distance', 'p': 2}. Best is trial 18 with value: 0.9672981588573515.\n",
            "[I 2025-08-02 18:25:01,210] Trial 21 finished with value: 0.968436213570098 and parameters: {'n_neighbors': 11, 'weights': 'distance', 'p': 1}. Best is trial 18 with value: 0.9672981588573515.\n",
            "[I 2025-08-02 18:25:01,291] Trial 22 finished with value: 0.9685685857803049 and parameters: {'n_neighbors': 10, 'weights': 'distance', 'p': 1}. Best is trial 18 with value: 0.9672981588573515.\n",
            "[I 2025-08-02 18:25:01,368] Trial 23 finished with value: 0.9723842546543955 and parameters: {'n_neighbors': 7, 'weights': 'distance', 'p': 1}. Best is trial 18 with value: 0.9672981588573515.\n",
            "[I 2025-08-02 18:25:01,450] Trial 24 finished with value: 0.968436213570098 and parameters: {'n_neighbors': 11, 'weights': 'distance', 'p': 1}. Best is trial 18 with value: 0.9672981588573515.\n",
            "[I 2025-08-02 18:25:01,519] Trial 25 finished with value: 1.0512876500316448 and parameters: {'n_neighbors': 3, 'weights': 'distance', 'p': 1}. Best is trial 18 with value: 0.9672981588573515.\n",
            "[I 2025-08-02 18:25:01,611] Trial 26 finished with value: 1.0255791048001741 and parameters: {'n_neighbors': 17, 'weights': 'uniform', 'p': 1}. Best is trial 18 with value: 0.9672981588573515.\n",
            "[I 2025-08-02 18:25:01,705] Trial 27 finished with value: 1.1209953994620865 and parameters: {'n_neighbors': 20, 'weights': 'distance', 'p': 2}. Best is trial 18 with value: 0.9672981588573515.\n",
            "[I 2025-08-02 18:25:01,787] Trial 28 finished with value: 0.968436213570098 and parameters: {'n_neighbors': 11, 'weights': 'distance', 'p': 1}. Best is trial 18 with value: 0.9672981588573515.\n",
            "[I 2025-08-02 18:25:01,847] Trial 29 finished with value: 1.1753836584181545 and parameters: {'n_neighbors': 3, 'weights': 'distance', 'p': 2}. Best is trial 18 with value: 0.9672981588573515.\n",
            "[I 2025-08-02 18:25:01,924] Trial 30 finished with value: 0.9723842546543955 and parameters: {'n_neighbors': 7, 'weights': 'distance', 'p': 1}. Best is trial 18 with value: 0.9672981588573515.\n",
            "[I 2025-08-02 18:25:02,017] Trial 31 finished with value: 0.968436213570098 and parameters: {'n_neighbors': 11, 'weights': 'distance', 'p': 1}. Best is trial 18 with value: 0.9672981588573515.\n",
            "[I 2025-08-02 18:25:02,153] Trial 32 finished with value: 0.9672981588573515 and parameters: {'n_neighbors': 9, 'weights': 'distance', 'p': 1}. Best is trial 18 with value: 0.9672981588573515.\n",
            "[I 2025-08-02 18:25:02,287] Trial 33 finished with value: 0.9672981588573515 and parameters: {'n_neighbors': 9, 'weights': 'distance', 'p': 1}. Best is trial 18 with value: 0.9672981588573515.\n",
            "[I 2025-08-02 18:25:02,422] Trial 34 finished with value: 0.9672981588573515 and parameters: {'n_neighbors': 9, 'weights': 'distance', 'p': 1}. Best is trial 18 with value: 0.9672981588573515.\n",
            "[I 2025-08-02 18:25:02,554] Trial 35 finished with value: 0.9967535273620891 and parameters: {'n_neighbors': 8, 'weights': 'uniform', 'p': 1}. Best is trial 18 with value: 0.9672981588573515.\n",
            "[I 2025-08-02 18:25:02,858] Trial 36 finished with value: 1.1682990494865815 and parameters: {'n_neighbors': 4, 'weights': 'distance', 'p': 3}. Best is trial 18 with value: 0.9672981588573515.\n",
            "[I 2025-08-02 18:25:02,987] Trial 37 finished with value: 0.9672981588573515 and parameters: {'n_neighbors': 9, 'weights': 'distance', 'p': 1}. Best is trial 18 with value: 0.9672981588573515.\n",
            "[I 2025-08-02 18:25:03,105] Trial 38 finished with value: 1.0174450244130782 and parameters: {'n_neighbors': 5, 'weights': 'uniform', 'p': 1}. Best is trial 18 with value: 0.9672981588573515.\n",
            "[I 2025-08-02 18:25:03,214] Trial 39 finished with value: 1.0907294542159793 and parameters: {'n_neighbors': 9, 'weights': 'distance', 'p': 2}. Best is trial 18 with value: 0.9672981588573515.\n",
            "[I 2025-08-02 18:25:03,359] Trial 40 finished with value: 1.0165602004370196 and parameters: {'n_neighbors': 15, 'weights': 'uniform', 'p': 1}. Best is trial 18 with value: 0.9672981588573515.\n",
            "[I 2025-08-02 18:25:03,488] Trial 41 finished with value: 0.968085573835795 and parameters: {'n_neighbors': 8, 'weights': 'distance', 'p': 1}. Best is trial 18 with value: 0.9672981588573515.\n",
            "[I 2025-08-02 18:25:03,609] Trial 42 finished with value: 0.981996624241443 and parameters: {'n_neighbors': 6, 'weights': 'distance', 'p': 1}. Best is trial 18 with value: 0.9672981588573515.\n",
            "[I 2025-08-02 18:25:03,742] Trial 43 finished with value: 0.9672981588573515 and parameters: {'n_neighbors': 9, 'weights': 'distance', 'p': 1}. Best is trial 18 with value: 0.9672981588573515.\n",
            "[I 2025-08-02 18:25:03,938] Trial 44 finished with value: 1.0208012785033054 and parameters: {'n_neighbors': 30, 'weights': 'distance', 'p': 1}. Best is trial 18 with value: 0.9672981588573515.\n",
            "[I 2025-08-02 18:25:04,081] Trial 45 finished with value: 0.9750319063685239 and parameters: {'n_neighbors': 13, 'weights': 'distance', 'p': 1}. Best is trial 18 with value: 0.9672981588573515.\n",
            "[I 2025-08-02 18:25:04,185] Trial 46 finished with value: 1.1012033895064386 and parameters: {'n_neighbors': 6, 'weights': 'distance', 'p': 2}. Best is trial 18 with value: 0.9672981588573515.\n",
            "[I 2025-08-02 18:25:04,333] Trial 47 finished with value: 0.9750319063685239 and parameters: {'n_neighbors': 13, 'weights': 'distance', 'p': 1}. Best is trial 18 with value: 0.9672981588573515.\n",
            "[I 2025-08-02 18:25:04,511] Trial 48 finished with value: 1.0127248228741927 and parameters: {'n_neighbors': 27, 'weights': 'distance', 'p': 1}. Best is trial 18 with value: 0.9672981588573515.\n",
            "[I 2025-08-02 18:25:04,643] Trial 49 finished with value: 0.9980707800621474 and parameters: {'n_neighbors': 9, 'weights': 'uniform', 'p': 1}. Best is trial 18 with value: 0.9672981588573515.\n"
          ]
        },
        {
          "output_type": "stream",
          "name": "stdout",
          "text": [
            "Melhores hiperparâmetros: {'n_neighbors': 9, 'weights': 'distance', 'p': 1}\n",
            "Melhor MSE: 0.9672981588573515\n"
          ]
        }
      ]
    }
  ]
}